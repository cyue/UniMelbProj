{
 "cells": [
  {
   "cell_type": "markdown",
   "metadata": {
    "signature": "bc2e3ac546de4fec8b3f7a41a64dd204311e17dec80546e4fd739a9c",
    "slideshow": {
     "slide_type": "slide"
    }
   },
   "source": [
    "# COMP90042 Assignment #2: Cross-language Information Retreival"
   ]
  },
  {
   "cell_type": "markdown",
   "metadata": {
    "collapsed": true,
    "signature": "ba02e366334ed17885a9ff54ad47aed3c3c7a4c2dc21c2e3d99b2f75"
   },
   "source": [
    "```Student Name: Cong Yue\n",
    "Student ID: 682020```\n",
    "\n",
    "Please do not edit this field. It must be left as is for use in marking."
   ]
  },
  {
   "cell_type": "markdown",
   "metadata": {
    "signature": "746343e4671377ff12024ef94f023321007a621988a7b15af138989f"
   },
   "source": [
    "## General info"
   ]
  },
  {
   "cell_type": "markdown",
   "metadata": {
    "signature": "a52ac90ecbb49a0f2e41e55eee2794890fd787e1df6e2aa865b17f03"
   },
   "source": [
    "**Due date**: 5pm, Wed 25th May\n",
    "\n",
    "**Submission method**: see LMS\n",
    "\n",
    "**Submission materials**: completed copy of this ipython notebook. *Do not upload the corpora*, you can assume these files will be extracted into the same folder as the code.  *Do not use absolute paths* such as paths to files on your machine, use *relative paths* instead. *Include output* in the ipython notebook, and ensure your code can run sucessfully from scratch (e.g., use *Kernel -> Restart and Run All* menu option to test.)\n",
    "\n",
    "**Late submissions**: -10% per day, no late submissions after the first week\n",
    "\n",
    "**Marks**: 25% of mark for class\n",
    "\n",
    "**Overview**: For this project, you'll be building a cross language information retreival system (CLIR), which is capable of searching for important text documents written in a English given a query in German, and displaying the results in German. This incorporates machine translation, information retrieval using a vector space model, and IR evaluation. A key focus of this project is critical analysis and experimental evaluation, for which you will need to report on the relative merits of various options. \n",
    "\n",
    "**Materials**: See the main class LMS page for information on the basic setup required for this class, including an iPython notebook viewer and the python packages as used for workshops and the previous assignments. The main part of this assignment should be done entirely in python, using built-in python packages and the packages used in the class (NLTK, Numpy, Scipy, Matplotlib, Sci-kit Learn, and Gemsim). Please do no use any other 3rd party packages. Note that some choices of the *extended part* of the assignment may require you to work with other tools, such as 3rd party translation tools or retreival engines, in which case this part of the assignment will require working in another environment, although you should report your results in the ipython notebook and attach your other files (code, shell scripts etc) with your submission.   \n",
    "\n",
    "You are encouraged to make use of the iPython notebooks released for this class as well as other online documentation to guide your responses, but you should not copy directly from any source. Adapting code from the class notebooks is permitted.\n",
    "\n",
    "**Data**: The other data you will need are:\n",
    "  - parallel German-English corpus.  This data comes from the Europarl corpus, which is a collection of debates held in the EU parliament over many years, translated into several EU languages. This data was collated as part of the annual WMT translation competitions. The data has been tokenised, sentence aligned using the Church-Gale algorithm. \n",
    "  - CLIR evaluation corpus, comprising a large collection of English documents sourced from Wikipedia along with several German query strings and relevance judgements for each document and query pair. \n",
    "  \n",
    "The data files are as follows:\n",
    "  - *bitext-small.{en,de}* is the sentence-aligned parallel corpus, of a small enough size for you to use for developing word-alignment tools. You may wish to work on a smaller subset during code development.\n",
    "  - *bitext-large.{en,de}* is a much larger version of the above corpus, for language modelling and translation.\n",
    "  - *newstest2013.{en,de}* is a separate small parallel corpus reserved for evaluation.\n",
    "  - *dev.{docs,queries,qrel}* is a set of documents in English, queries in German and query relevance judgements, for the development of the IR components and evaluation.\n",
    "  \n",
    "For details of the datasets, please see:\n",
    "> Philipp Koehn. *Europarl: A Parallel Corpus for Statistical Machine Translation* MT Summit 2005.   \n",
    "\n",
    "and\n",
    "> Shigehiko Schamoni, Felix Hieber, Artem Sokolov, Stefan Riezler. *Learning Translational and Knowledge-based Similarities from Relevance Rankings for Cross-Language Retrieval* ACL 2014.\n",
    "\n",
    "You can find the PDFs for both papers online with a quick web search.\n",
    "\n",
    "**Evaluation**: Your iPython notebook should run end-to-end without any errors in a reasonable amount of time (less than 15 minutes on a lab desktop), and you must follow all instructions provided below, including specific implementation requirements. Indexing or translation steps might taken longer than this, however you should upload with your submission preprocessed files (e.g., text files, pickled python structures) to keep the runtime modest.\n",
    "You will be marked not only on the correctness of your methods, but also on your explanation and analysis. \n",
    "\n",
    "Please do not change any of instruction text in the notebook. Where applicable, leave the output cells in the code, particularly when you are commenting on that output. You should add your answers and code by inserting a markdown cell between every major function or other block of code explaining its purpose or anywhere a result needs to be discussed (see the class notebooks for examples). Note that even if you do something wrong, you might get partial credit if you explain it enough that we can follow your reasoning, whereas a fully correct assignment with no text commentary will not receive a passing score. You will not be marked directly on the performance of your final classifier, but each of the steps you take to build it should be reasonable and well-defended.\n",
    "\n",
    "**Updates**: Any major changes to the assignment will be announced via LMS. Minor changes and clarifications will be announced in the forum on LMS, we recommend you check the forum regularly.\n",
    "\n",
    "**Academic Misconduct**: For most people, collaboration will form a natural part of the undertaking of this project, and we encourage you to discuss it in general terms with other students. However, it is still an individual task, and so reuse of code or other instances of clear influence will be considered cheating. We will be checking submissions for originality and will invoke the University’s [Academic Misconduct policy](http://academichonesty.unimelb.edu.au/policy.html) where inappropriate levels of collusion or plagiarism are deemed to have taken place.\n"
   ]
  },
  {
   "cell_type": "markdown",
   "metadata": {
    "signature": "05077e4ef02ae1d5c3779ff2915669c6d95e91b1270e8a13e92fc0b6"
   },
   "source": [
    "### Warning: File encodings and tokenisation"
   ]
  },
  {
   "cell_type": "markdown",
   "metadata": {
    "signature": "f996b44cf07b44e9531562a606696dbf39f757d62c8b39ec3b583b20"
   },
   "source": [
    "All the text files are encoded in *utf-8*, which requires some care in using with python strings, the nltk tools and jupyter.  Please use the following method to convert strings into ASCII by escaping the special symbols. Be careful to do the conversion after tokenisation, as the escaped tags might interfere with the NLTK tokenizer and get treated as punctuation."
   ]
  },
  {
   "cell_type": "code",
   "execution_count": 1,
   "metadata": {
    "collapsed": false,
    "signature": "a85c6a64b9ac66feb898938f542e642899ada6a86577574c75a70c5e"
   },
   "outputs": [
    {
     "data": {
      "text/plain": [
       "['seit',\n",
       " 'damals',\n",
       " 'ist',\n",
       " 'er',\n",
       " 'auf',\n",
       " '\\\\xfcber',\n",
       " '10.000',\n",
       " 'punkte',\n",
       " 'gestiegen',\n",
       " '.']"
      ]
     },
     "execution_count": 1,
     "metadata": {},
     "output_type": "execute_result"
    }
   ],
   "source": [
    "import nltk\n",
    "from nltk.tokenize import word_tokenize\n",
    "\n",
    "def tokenize(line, tokenizer=word_tokenize):\n",
    "    utf_line = line.decode('utf-8').lower()\n",
    "    return [token.encode('ascii', 'backslashreplace') for token in tokenizer(utf_line)]\n",
    "\n",
    "tokenize(\"Seit damals ist er auf über 10.000 Punkte gestiegen.\")"
   ]
  },
  {
   "cell_type": "markdown",
   "metadata": {
    "signature": "8cb13d3e2c64288417c5241d66be71eb610745faeed440e2c4c0031b"
   },
   "source": [
    "# Part 1: CLIR engine"
   ]
  },
  {
   "cell_type": "markdown",
   "metadata": {
    "signature": "ff5d848af646938e267cfba7eda7808ee5b199a6c7b1ee62e6642e60"
   },
   "source": [
    "The project has two parts: first you must build a CLIR engine, comprising information retrieval and translation components, and evaluate its accuracy. Next you will propose an extension to a component of the system. In each step you will need to justify your modelling and implementation decisions, and evaluate the quality of the outputs of the system, and at the end you will need to reflect on the overall outcomes.\n",
    "\n",
    "The CLIR system will involve:\n",
    " - translating queries from German into English, the language of our text collection, using word-based translation\n",
    " - once the queries and the documents are in the same language, search over the document collection using BM25\n",
    " - evaluate the quality of ranked retreival results using the query relevance judgements\n",
    "\n",
    "Note that you could try translating the text collection into German instead, but for this project we'll stick with translating the query."
   ]
  },
  {
   "cell_type": "markdown",
   "metadata": {
    "signature": "b7fbdd14c7cc88650a4fe37460a2222d4e992f63c72c42707061d40f"
   },
   "source": [
    "Building the CLIR engine is the majority of work in the assignment, and  constitutes 70% of the assignment mark. Note that although there are several steps, they do not necessarily need to be attempted in a linear order. That is, some components are independent of others. If you're struggling with one component and cannot complete it, then you may be able to skip over it and return to it later. Where outputs are needed in a subsequent step you may want to consider ways of side-stepping this need, e.g., by using Google translate output rather than your system output for translating the queries. You should aim to answer all components."
   ]
  },
  {
   "cell_type": "markdown",
   "metadata": {
    "signature": "406cb04ca674e183a277f9a9fe593e6fb4d4378aaff526956845dd93"
   },
   "source": [
    "## Information Retreival with BM25 (20% of assignment mark)"
   ]
  },
  {
   "cell_type": "markdown",
   "metadata": {
    "collapsed": true,
    "signature": "8c9738884cb92f3879814c475b2cb91ebcca5b5880ec75d927e19aa9"
   },
   "source": [
    "You should implement a vector-space retreival system using the BM25 approach. You'll need to:\n",
    " - load in the data files and tokenize the input,\n",
    " - preprocess the lexicon, e.g., by stemming and stop-word removal, \n",
    " - calculate the TF/IDF representation for all documents in the collection,\n",
    " - store an inverted index such that you can efficiently recover the documents matching a query term, and\n",
    " - implement querying in the BM25 model\n",
    " - test that it runs with some English queries (you'll have to make these up)\n",
    " \n",
    "This should run in a reasonable time over *dev.docs* (up to a few minutes to index), but beyond this does not need to be highly optimised. Feel free to use python dictionaries, sets, lists, numpy/scipy matrices etc where appropriate for best runtime, but you shouldn't need to use specialised data structures such as compression schemes or the like. Feel free to use APIs in NLTK, scikit-learn and other allowed python modules as needed (see list above.) You will probably want to save and load your index to/from disk to save repeated re-indexing every time you load the file."
   ]
  },
  {
   "cell_type": "code",
   "execution_count": 2,
   "metadata": {
    "collapsed": true,
    "signature": "13d0521a159c6b0f28d0e6b5a952921769ee62cc6ded163102ef5878"
   },
   "outputs": [],
   "source": [
    "import nltk\n",
    "import string\n",
    "STOPWORDS = set(nltk.corpus.stopwords.words('english'))\n",
    "stemmer = nltk.stem.PorterStemmer() \n",
    "PUNCT = set(string.punctuation)"
   ]
  },
  {
   "cell_type": "code",
   "execution_count": 5,
   "metadata": {
    "collapsed": false
   },
   "outputs": [],
   "source": [
    "from nltk import word_tokenize\n",
    "import numpy as np\n",
    "import os\n",
    "import pickle\n",
    "from scipy.sparse import csr_matrix\n",
    "from scipy.io import mmwrite, mmread\n",
    "from sklearn.feature_extraction.text import TfidfVectorizer\n",
    "import sys\n",
    "\n",
    "DEV_DOC = 'dev.docs'\n",
    "\n",
    "def extract_terms(doc):\n",
    "    ''' return processed terms from a doc'''\n",
    "    terms = []\n",
    "    for token in word_tokenize(doc):\n",
    "        if token not in STOPWORDS:\n",
    "            term = stemmer.stem(token.lower())\n",
    "            terms.append(term) if term not in PUNCT else 0\n",
    "    return terms\n",
    "\n",
    "\n",
    "def construct_tfidf(filename):\n",
    "    row_vocab = {}\n",
    "    docs = []\n",
    "    with open(filename) as f:\n",
    "        for line_no, line in enumerate(f):\n",
    "            line = line.strip().split('\\t')\n",
    "            docid = line[0]\n",
    "            row_vocab[docid] = row_vocab.get(docid, line_no)\n",
    "            docs.append(line[1])\n",
    "    \n",
    "    vectorizer = TfidfVectorizer('content', tokenizer=extract_terms)\n",
    "    tfidf = vectorizer.fit_transform(docs)\n",
    "    # return row-name: row-index map; col-name: col-index map; doc-term matrix of tf-idf representation\n",
    "    return row_vocab, vectorizer.vocabulary_, tfidf\n",
    "\n",
    "def load_tfidf(row_vocab_file, col_vocab_file, tfidf_file):\n",
    "    ''' load stored file of:\n",
    "            row_vocab (row-name: row-index map)\n",
    "            col_vocab (col-name: col-index map)\n",
    "            tfidf(doc-term matrix of tf-idf representation)'''\n",
    "    # check if stored file exists, if no, build them\n",
    "    if os.path.isfile(row_vocab_file) and \\\n",
    "        os.path.isfile(col_vocab_file) and \\\n",
    "        os.path.isfile(tfidf_file+'.mtx'):\n",
    "            row_vocab = pickle.load(open(row_vocab_file))\n",
    "            col_vocab = pickle.load(open(col_vocab_file))\n",
    "            tfidf = csr_matrix(mmread(tfidf_file+'.mtx'))\n",
    "            \n",
    "    else:\n",
    "        row_vocab, col_vocab, tfidf = construct_tfidf(DEV_DOC)\n",
    "        pickle.dump(row_vocab, open(row_vocab_file, 'w'))\n",
    "        pickle.dump(col_vocab, open(col_vocab_file, 'w'))\n",
    "        mmwrite(tfidf_file, tfidf)\n",
    "        \n",
    "    return row_vocab, col_vocab, tfidf\n",
    "\n",
    "row_vocab, col_vocab, tfidf = load_tfidf('row.vocab', 'col.vocab', 'tfidf')"
   ]
  },
  {
   "cell_type": "code",
   "execution_count": 6,
   "metadata": {
    "collapsed": false
   },
   "outputs": [],
   "source": [
    "''' generate the inverted index '''\n",
    "\n",
    "def invert(row_vocab, col_vocab, tfidf):\n",
    "    inverted_dict = {}\n",
    "    # invert vocabulary to id-string map\n",
    "    row_map = dict((v,k) for k,v in row_vocab.iteritems())\n",
    "    col_map = dict((v,k) for k,v in col_vocab.iteritems())\n",
    "    # iterate over column (term)\n",
    "    for col_idx in xrange(tfidf.shape[1]):\n",
    "        # initialize inverted index with key to be term\n",
    "        term = col_map[col_idx]\n",
    "        inverted_dict[term] = inverted_dict.get(term, [])\n",
    "        col_vec = tfidf[:, col_idx].toarray()\n",
    "        # find indices of docs that the term emerges\n",
    "        doc_indices = np.nonzero(col_vec)[0]\n",
    "        # iterative over docs and add to inverted list\n",
    "        for idx in doc_indices:\n",
    "            doc_name = row_map[idx]\n",
    "            inverted_dict[term].append(doc_name)\n",
    "            \n",
    "    return inverted_dict\n",
    "\n",
    "def save_to_inverted(inv, inv_file):\n",
    "    pickle.dump(inv, open(inv_file, 'w'))\n",
    "    \n",
    "def load_from_inverted(inv_file, args=(row_vocab, col_vocab, tfidf)):\n",
    "    inv = None\n",
    "    if os.path.isfile(inv_file):\n",
    "        inv = pickle.load(open(inv_file))\n",
    "    else:\n",
    "        inv = invert(args[0], args[1], args[2])\n",
    "        save_to_inverted(inv, inv_file)\n",
    "\n",
    "    return inv\n",
    "\n",
    "inverted_dict = load_from_inverted('inv.idx')"
   ]
  },
  {
   "cell_type": "markdown",
   "metadata": {
    "signature": "a794be49b04eae105097244361e5ce0233874cee3f8d729cf9a00c0a"
   },
   "source": [
    "```your supporting explanation and analysis goes here```"
   ]
  },
  {
   "cell_type": "markdown",
   "metadata": {
    "signature": "a5b2d6b11db06d440796c8f7d04549278888745d01c9e916adad7243"
   },
   "source": [
    "## Translating the queries (40% of assignment mark)"
   ]
  },
  {
   "cell_type": "markdown",
   "metadata": {
    "collapsed": true,
    "signature": "87134bb35ef2b8328366b4560d55eb8320e14e456a4987228e454f9a"
   },
   "source": [
    "For translation, you should implement a simple word-based translation model in a noisy channel setting, where you search for the best translation string using a language model over the English with a translation model over the back-translation of the English output string, $\\vec{e}$, into the German input string, $\\vec{f}$. This corresponds to finding the string, $\\vec{e}$ which maximises $p(\\vec{e}) p(\\vec{f} | \\vec{e})$. This has two components:\n",
    "\n",
    "### Language model\n",
    "\n",
    "The first step is to estimate a language model. You should learn both a unigram language model and a trigram language model, and compare the two. Note that the unigram will be used in the *decoding* step below. You will have to think about how to smooth your estimates, and the related problem of handling unknown words. For smoothing the trigram model, you should you use backoff smoothing. There are a few choices to be made about how much probability mass to assign to the backoff, you will need to decide how to do this -- see the lecture slides and readings for some ideas. Be careful to pad the sentence with sentinel symbols to denote the start and end of each sentence such that the model can predict the words at the start of a sentence, and those when a sentence is complete.\n",
    "\n",
    "Please use *bitext-large.en* to train your models (start with *bitext-small.en* for your development) and evaluate the perplexity of your model on *newstest2013.en*. You should justify your development decisions and parameter settings in a markdown cell, and quantify their effect on perplexity, including the differences you notice between the unigram and the trigram models."
   ]
  },
  {
   "cell_type": "code",
   "execution_count": 201,
   "metadata": {
    "collapsed": false
   },
   "outputs": [
    {
     "name": "stdout",
     "output_type": "stream",
     "text": [
      "9247.1956551\n",
      "875.152690721\n",
      "415.373263023\n",
      "404.534566277\n",
      "423.870530106\n",
      "425.703477488\n"
     ]
    }
   ],
   "source": [
    "from nltk import FreqDist\n",
    "\n",
    "def unigram_from_file(text):\n",
    "    unigrams = []\n",
    "    with open(text) as f:\n",
    "        for line in f:\n",
    "            # add sentinel symbol\n",
    "            line = line.strip().decode('utf-8').lower()\n",
    "            terms = ['<s>'] + extract_terms(line) + ['</s>']\n",
    "            unigrams.extend(terms)\n",
    "            \n",
    "    return unigrams\n",
    "\n",
    "\n",
    "class LanModel(object):\n",
    "    def __init__(self, n, lmbda):\n",
    "        self._n = n\n",
    "        self._lambda = lmbda\n",
    "        self._fdist = None\n",
    "        self._bi_fdist = None\n",
    "        self._tri_fdist = None\n",
    "        self._token_length = 0\n",
    "        \n",
    "        # smoothing param\n",
    "        self._N = {}\n",
    "        self._next_count_map = []\n",
    "     \n",
    "    def fit(self, tokens):\n",
    "        self._token_length = len(tokens)\n",
    "        self._fdist = self.get_distribution(tokens, 1)\n",
    "        unk_counts = len(self._fdist)\n",
    "        self._fdist.setdefault('UNK', unk_counts)\n",
    "        # prepare for good turing smoothing\n",
    "        self._N, self._next_count_map = self.good_turing_smoothing(self._fdist)\n",
    "\n",
    "        if self._n == 2:\n",
    "            self._bi_fdist = self.get_distribution(tokens, 2)\n",
    "            \n",
    "        if self._n == 3:\n",
    "            self._bi_fdist = self.get_distribution(tokens, 2)\n",
    "            self._tri_fdist = self.get_distribution(tokens, 3)\n",
    "            \n",
    "            \n",
    "    def good_turing_smoothing(self, fdist):\n",
    "        # prepare for good turing smoothing\n",
    "        # N[i] is the number of grams of count i\n",
    "        N = {0:1}\n",
    "        # vector that stores sorted count of every token\n",
    "        vec = np.asarray(sorted(fdist.values()))\n",
    "        # each position stores next available count\n",
    "        # e.g. next_count_map[5] = 11, denotes next available count that bigger than 5 is 11\n",
    "        next_count_map = {}\n",
    "        for i, count in enumerate(vec):\n",
    "            N.setdefault(count, len(vec[vec==count]))\n",
    "            if i == 0:\n",
    "                next_count_map.setdefault(0, count)\n",
    "            elif i > 0:\n",
    "                next_count_map.setdefault(vec[i-1], count)\n",
    "            \n",
    "        return N, next_count_map    \n",
    "    \n",
    "\n",
    "    def get_distribution(self, tokens, n):\n",
    "        ''' get the distribution of n-gram'''\n",
    "        fdist = None\n",
    "        if n == 1:\n",
    "            fdist = FreqDist(tokens)\n",
    "        elif n == 2:\n",
    "            fdist = FreqDist(nltk.bigrams(tokens))\n",
    "        elif n == 3:\n",
    "            fdist = FreqDist(nltk.trigrams(tokens))\n",
    "\n",
    "        return fdist\n",
    "    \n",
    "    \n",
    "    def check_for_unk(self, gram, fdist):\n",
    "        return 'UNK' if fdist[gram] < 1 else gram\n",
    "        \n",
    "    \n",
    "\n",
    "    def unigram_prob(self, sentence):\n",
    "        '''  '''\n",
    "        total_prob = 1.0\n",
    "        N, next_count_map = self._N, self._next_count_map\n",
    "\n",
    "        for word in sentence:\n",
    "            word = self.check_for_unk(word, self._fdist)\n",
    "            # good turing smoothing\n",
    "            higher_count = next_count_map[self._fdist[word]]\n",
    "            prob = ( higher_count * N[higher_count] / float(N[self._fdist[word]]) ) \\\n",
    "                    / self._token_length\n",
    "            total_prob *= prob\n",
    "\n",
    "        return total_prob\n",
    "\n",
    "\n",
    "    def bigram_prob(self, sentence, ):\n",
    "        ''' backoff + interpolation'''\n",
    "        sent_grams = nltk.bigrams(sentence)\n",
    "        total_prob = 1.0\n",
    "\n",
    "        for gram in sent_grams:\n",
    "            # avoid divide by zero, if count of unigram is zero, \n",
    "            # the count of corresponding bigram must be zero\n",
    "            denominator = float(self._fdist[gram[0]]) if self._fdist[gram[0]] != 0 else 1.0\n",
    "            \n",
    "            prob = self._lambda * ( self._bi_fdist[gram] / denominator ) \\\n",
    "                    + (1-self._lambda) * self.unigram_prob([gram[1]]) \n",
    "            total_prob *= prob\n",
    "\n",
    "        return total_prob\n",
    "    \n",
    "\n",
    "    def trigram_prob(self, sentence, ):\n",
    "        ''' backoff + interpolation'''\n",
    "        sent_grams = nltk.trigrams(sentence)\n",
    "        total_prob = 1.0\n",
    "\n",
    "        for gram in sent_grams:\n",
    "            # avoid divide by zero, if count of bigram is zero, \n",
    "            # then the count of corresponding trigram will always be zero\n",
    "            denominator = float(self._bi_fdist[gram[:-1]]) if self._bi_fdist[gram[:-1]] != 0 else 1.0\n",
    "            \n",
    "            prob = self._lambda * ( self._tri_fdist[gram] / denominator ) \\\n",
    "                    + (1-self._lambda) * self.bigram_prob(gram[1:])\n",
    "            total_prob *= prob\n",
    "\n",
    "        return total_prob\n",
    "    \n",
    "    \n",
    "    def get_log_proba(self, sentence, ):\n",
    "        log_proba = 0.0\n",
    "        if self._n == 1:\n",
    "            log_proba = np.log(self.unigram_prob(sentence))\n",
    "        if self._n == 2:\n",
    "            log_proba = np.log(self.bigram_prob(sentence))\n",
    "        if self._n == 3:\n",
    "            log_proba = np.log(self.trigram_prob(sentence))\n",
    "            \n",
    "        return log_proba\n",
    "    \n",
    "    \n",
    "    def get_proba(self, sentence,):\n",
    "        proba = 0.0\n",
    "        if self._n == 1:\n",
    "            proba = self.unigram_prob(sentence)\n",
    "        if self._n == 2:\n",
    "            proba = self.bigram_prob(sentence)\n",
    "        if self._n == 3:\n",
    "            proba = self.trigram_prob(sentence)\n",
    "            \n",
    "        return proba\n",
    "\n",
    "\n",
    "def fetch_sentence(test_file):\n",
    "    ''' ignore unknown words, because unknown word will be smoothed \n",
    "        in the phase of probability calculation'''\n",
    "    with open(test_file) as f:\n",
    "        for line in f:\n",
    "            line = line.strip().decode('utf-8').lower()\n",
    "            terms = ['<s>'] + extract_terms(line) + ['</s>']\n",
    "            yield terms\n",
    "            \n",
    "    \n",
    "def get_perplexity(test_file, model):\n",
    "    total_log_prob = 0.0\n",
    "    test_token_count = 0\n",
    "    for sentence in fetch_sentence(test_file):\n",
    "        total_log_prob += model.get_log_proba(sentence)\n",
    "        test_token_count += len(sentence)\n",
    "    return np.exp(-total_log_prob/test_token_count)\n",
    "   \n",
    "    \n",
    "import sys\n",
    "train_file = 'bitext-small.en'\n",
    "test_file = 'newstest2013.en'\n",
    "train_tokens = unigram_from_file(train_file)\n",
    "#uni_model = LanModel(1, None)\n",
    "#uni_model.fit(train_tokens)\n",
    "#tri_model = LanModel(3, 0.45)\n",
    "#tri_model.fit(train_tokens)\n",
    "# get_perplexity(test_file, uni_model)\n",
    "#tri_model = LanModel(3, None)\n",
    "#tri_model.fit(train_tokens)\n",
    "for lmbda in [0.9, 0.5, 0.1, 1e-2, 1e-4, 1e-8]:\n",
    "    tri_model._lambda = lmbda\n",
    "    print get_perplexity(test_file, tri_model)\n",
    "\n",
    "    "
   ]
  },
  {
   "cell_type": "code",
   "execution_count": 163,
   "metadata": {
    "collapsed": false
   },
   "outputs": [
    {
     "name": "stdout",
     "output_type": "stream",
     "text": [
      "-26.0228768673\n",
      "4.99353586316e-12\n"
     ]
    }
   ],
   "source": [
    "doc = ['<s>', 'we', 'do', 'use', 'it', '</s>']\n",
    "doc2 = ['we', 'do', 'use', 'it']\n",
    "print uni_model.get_log_proba(doc)\n",
    "print uni_model.get_proba(doc)\n",
    "#fdist = FreqDist(doc2)\n",
    "#fdist.keys()\n",
    "1060.11664426\n",
    "import warnings\n",
    "warnings.filterwarnings('error')"
   ]
  },
  {
   "cell_type": "code",
   "execution_count": 188,
   "metadata": {
    "collapsed": false
   },
   "outputs": [
    {
     "ename": "RuntimeWarning",
     "evalue": "divide by zero encountered in log",
     "output_type": "error",
     "traceback": [
      "\u001b[1;31m---------------------------------------------------------------------------\u001b[0m",
      "\u001b[1;31mRuntimeWarning\u001b[0m                            Traceback (most recent call last)",
      "\u001b[1;32m<ipython-input-188-d64e5c7a7bfd>\u001b[0m in \u001b[0;36m<module>\u001b[1;34m()\u001b[0m\n\u001b[0;32m      3\u001b[0m \u001b[0msorted\u001b[0m\u001b[1;33m(\u001b[0m\u001b[0mfdist\u001b[0m\u001b[1;33m.\u001b[0m\u001b[0mvalues\u001b[0m\u001b[1;33m(\u001b[0m\u001b[1;33m)\u001b[0m\u001b[1;33m)\u001b[0m\u001b[1;33m\u001b[0m\u001b[0m\n\u001b[0;32m      4\u001b[0m \u001b[1;36m2.66775686128e-319\u001b[0m\u001b[1;33m*\u001b[0m\u001b[1;36m3.44173455371e-07\u001b[0m\u001b[1;33m\u001b[0m\u001b[0m\n\u001b[1;32m----> 5\u001b[1;33m \u001b[0mnp\u001b[0m\u001b[1;33m.\u001b[0m\u001b[0mlog\u001b[0m\u001b[1;33m(\u001b[0m\u001b[1;36m2.66775686128e-325\u001b[0m\u001b[1;33m)\u001b[0m\u001b[1;33m\u001b[0m\u001b[0m\n\u001b[0m",
      "\u001b[1;31mRuntimeWarning\u001b[0m: divide by zero encountered in log"
     ]
    }
   ],
   "source": [
    "doc = ['<s>', 'we', 'do', 'we', 'we', 'it', '</s>']\n",
    "fdist = FreqDist(doc)\n",
    "sorted(fdist.values())\n",
    "2.66775686128e-319*3.44173455371e-07\n",
    "np.log(2.66775686128e-325)"
   ]
  },
  {
   "cell_type": "markdown",
   "metadata": {
    "signature": "ef3b14840d17dde94f36bd0120c17b47925582ea200e7eee9dae76e8"
   },
   "source": [
    "### Translation model\n",
    "\n",
    "The next step is to estimate translation model probabilities. For this we will use a word-based alignment model, e.g., *ibm1* to learn word-based translation probabilities using expectation maxisation. Your task is to obtain good quality word alignments from this data, which will require careful use of the word alignment models. You will want to training in both translation directions, and combining the alignments.\n",
    "\n",
    "You should use the *bitext-small* files for this purpose, and be aware that it may take a minute or two to train ibm1 on this data. Inspect some of the word alignments and translation probabilities (e.g., using a few common words in German such as *haus*) to see if your approach is working, and give some examples of output alignments that you find that are good and bad. "
   ]
  },
  {
   "cell_type": "code",
   "execution_count": null,
   "metadata": {
    "collapsed": false,
    "signature": "13262d9ec28881c746fb0e78232103875c6ed5ef13bdb020383d0a93"
   },
   "outputs": [],
   "source": [
    "your code goes here"
   ]
  },
  {
   "cell_type": "markdown",
   "metadata": {
    "signature": "a9c4c219aa5812569770a37c04391a7a8bfcd16e19abec3b672385a5"
   },
   "source": [
    "### Decoding \n",
    "\n",
    "Finally you'll need to solve for the best translation for a given string. For this you should do simple word-for-word translation where each word is translated independently. Use the alignments learned above (or the translation parameters) to translate each word of the queries into English. Compare taking the maximum probability of translation into English $p(e|f)$, with the noisy-channel probability, $p(f|e)p(e)$, which considers the reverse translation and a unigram language model probability. (You'll get a chance later to do something more ambitious, using the trigram model.)\n",
    "\n",
    "Use your algorithms to translate the first 100 queries into English, and save them to disk."
   ]
  },
  {
   "cell_type": "code",
   "execution_count": null,
   "metadata": {
    "collapsed": false,
    "signature": "007a35dd5496d3205cc4333e7e2617f0e36f56e607cbbcbc6a82148b"
   },
   "outputs": [],
   "source": [
    "your code goes here"
   ]
  },
  {
   "cell_type": "markdown",
   "metadata": {
    "signature": "24228937d329576ed687c662f3603fa12a0b75b88d16c86347201d0b"
   },
   "source": [
    "Now you will need to write some text about the procedure above, and how well it worked. You should answer:\n",
    "  - how good are the translations? How do your methods fare at translating the content words versus functions words? You can use Google translate to provide an alternative (pretty good) translation for comparison purposes. \n",
    "  - what are good settings for various modelling parameters such as language model discounting, translation model smoothing, any decoding parameters, and how do these affect the outputs?\n",
    "  - compare the language model perplexity for the unigram and trigram models over your decoder outputs, how does the difference in perplexity between the two models compare to your test above on the monolingual data? \n",
    "  - how do the learned alignments differ between the two translation directions, and does their combination appear oto improve the predictions? (You don't need a formal evaluation here, as we have no *gold standard* alignments.)"
   ]
  },
  {
   "cell_type": "markdown",
   "metadata": {
    "collapsed": true,
    "signature": "f6601d5bb8f75b8079b88a680531d2ba1e02a8eb3014fa016c788b33"
   },
   "source": [
    "```your text goes here (markdown); aim to write a few paragraphs here.```\n",
    "\n",
    "***Decisions***\n",
    "- Using log-probability : to avoid calculating on very small numeric value\n",
    "- Smoothing: Good turing"
   ]
  },
  {
   "cell_type": "markdown",
   "metadata": {
    "signature": "09412f48151b6d3ad704dd991aa7baa21828b741d8ef14c67a26ce12"
   },
   "source": [
    "## Putting the CLIR system together (10% of assignment mark)"
   ]
  },
  {
   "cell_type": "markdown",
   "metadata": {
    "collapsed": true,
    "signature": "4883e1614b89c78c70dcc4a385a7fa5e74dffbea5fed81d5ba5de4a9"
   },
   "source": [
    "Now you should couple the translation and IR components from above. Take your translated queries and use these with the IR system to find the most relevant documents. You should then evaluate these predictions against the supplied relevance judgements, using the *mean average precision* (MAP) metric. As part of this, you will want to consider tuning the settings of the IR system for best performance, and comment on how successful your approach was and evaluate the IR performance is affected by the parameter settings and modelling decisions you have made.\n",
    "\n",
    "Note that if you were stuck on the translation steps above, or your translations are otherwise unusable, you can implement this step using google translate outputs for the 100 queries."
   ]
  },
  {
   "cell_type": "code",
   "execution_count": null,
   "metadata": {
    "collapsed": true,
    "signature": "d448692f83dde994bd7878bfc5ee516b5813b1aadf7134dc55e90413"
   },
   "outputs": [],
   "source": [
    "your code goes here"
   ]
  },
  {
   "cell_type": "markdown",
   "metadata": {
    "signature": "f02f7e7a03026499402d4397990b1cee0254f379e8d8c403eceb16c1"
   },
   "source": [
    "```your supporting analysis goes here```"
   ]
  },
  {
   "cell_type": "markdown",
   "metadata": {
    "signature": "657ded8eff14e411b37fa73749c3d1df799a2a97ddde4e4f7267e1e6"
   },
   "source": [
    "Note that in a complete CLIR you would translate the retreived documents back into German. We won't bother about that for this assignment, especially as I doubt many of you can understand German."
   ]
  },
  {
   "cell_type": "markdown",
   "metadata": {
    "signature": "b559fb377305049010c4b3ba9392eb3f938de32225bff3896034dcbf"
   },
   "source": [
    "# Part 2: Extension and discussion"
   ]
  },
  {
   "cell_type": "markdown",
   "metadata": {
    "signature": "21fdfe601b97b55be42ed276189e81333f1ab9af9f50c1dae82d9761"
   },
   "source": [
    "## Extension (25% of assignment mark)"
   ]
  },
  {
   "cell_type": "markdown",
   "metadata": {
    "signature": "a803f8aeef75dd2ade52899538804c54b895446e281864f13b197c2a"
   },
   "source": [
    "You now have a working end-to-end CLIR system. The next step is to revisit some of the steps above to see if you can improve the performance of the system. You are invited to be creative with your ideas about how to do this. Note that many great ideas might not produce improvements, or end up being very difficult to implement. This will not be assessed solely on the grounds of CLIR accuracy; we will be looking primarily for interesting and creative ideas.\n",
    "\n",
    "Here are some ideas on what you might do. Warning: some are bigger than others, aim to spend 5-6 hours in total on this.\n",
    "\n",
    "#### Structured decoding\n",
    "\n",
    "Decode using a higher order language model, possibly with word reordering. Using your trigram language model and a word-based or phrase-based translation model, search for the best scoring translation sentence. You may want to use the tools in *nltk.translate*, including the phrase extraction and *StackDecoder*, especially if you wish to support word reordering. The decoding algorithm is much simpler (and tractable) without reordering, so you might want to implement this yourself. You will want to work with log-probabilities to avoid numerical underflow. Note  that the *StackDecoder* is not highly stable code, so you will need to understand its code in detail if you chose to use it. You will need to supply translation log probabilities and language model log probabilities as input to the decoder and consider the context of the previous two words in estimating the probability of each word. \n",
    "\n",
    "#### Probabilisitc querying\n",
    "\n",
    "Consider queries including weighted terms based on multiple translation outputs, such as the word translation probabilities or using *k-best* translations from a decoder (you will need to extract not just the best translation from the decode, but the runners up, which can be done from the stack contents after beam search.)  You should consider how best to define TF and DF for query words based on their ambiguous translations. You may find inspiration in the bibliography of [Douglas Oard](https://terpconnect.umd.edu/~oard/research.html#mlia) such as [this paper](https://terpconnect.umd.edu/~oard/pdf/coling12ture.pdf).\n",
    "\n",
    "#### Word alignment\n",
    "\n",
    "Implement an extended word alignment model, such as the *hmm* model (see [Vogel's paper](http://www.aclweb.org/anthology/C96-2141)) or a variant of *ibm2*. The variant of *ibm2* could include a better formulation for the distortion term, $p(i|j,I,J)$, based around rewarding values of i and j that are at similar relative positions to encourage alignments near the diagonal. This contrasts with *ibm2* which just learns a massive table of counts for all combinations of i,j,I and J. This strictly needs normalisation, as its not a probability, but for simplicity you can ignore this aspect here. This idea is inspired by [fast-align](https://github.com/clab/fast_align) which has a similar, but slightly more complex, formulation.\n",
    "\n",
    "You might also want to experiment with [fast-align](https://github.com/clab/fast_align) (an extremely fast and accurate variant of *ibm2*) or [GIZA++](http://www.statmt.org/moses/giza/GIZA++.html) (an implementation of *ibm1* - *ibm5* and the *hmm*), both widely used and highly optimised alignment tools. Neither of these tools are in python, and may be a little involved to install and compile.\n",
    "\n",
    "#### Decoding\n",
    "\n",
    "Experiment with a state-of-the-art translation tool like [Moses](http://www.statmt.org/moses/).  Can you get better CLIR performance using this, trained on the full parallel dataset? You might want to consider translating the document collection into German, and then doing the IR entirely in German. You might consider building a python interface to moses, building on the existing very basic funcationality. **Warning:** Moses is a complex suite of software, and can be a little complex to install and use. However there are good installation and usage guides on the moses webpage.\n",
    "\n",
    "#### IR engine\n",
    "\n",
    "There are several great open source IR engines, including [Lucene](https://lucene.apache.org/core/), [Terrier](http://terrier.org/), [Zettair](http://www.seg.rmit.edu.au/zettair/) and [Lemur](http://www.lemurproject.org/). You could experiment with these, and use this to compare the accuracy of different types of IR models on the CLIR data. Alternatively, you could implement a faster or more compact retreival system in python, e.g., using compressed vbyte encodings, skip lists or similar.\n",
    "\n",
    "Note that the development of some of the extensions maye require working in the command shell and in other languages than python. If this is the case, you should attach your code in separate files as part of your submission, but include the analysis text here. *Note that excellent submissions implementing interfaces or models not currently in NLTK will be considered for inclusion into the toolkit.* You should include both the code, and text explaining your work and findings."
   ]
  },
  {
   "cell_type": "code",
   "execution_count": null,
   "metadata": {
    "collapsed": false,
    "signature": "4454501ac5ad50d21f82621c889513f0501dca68cd39b651bec65458"
   },
   "outputs": [],
   "source": [
    "your code goes here"
   ]
  },
  {
   "cell_type": "markdown",
   "metadata": {
    "signature": "a06bcac7f11d7a56abdca1502f57851f2ca54f07a4bbcaacb18d77cb"
   },
   "source": [
    "```your supporting description analysis goes here```"
   ]
  },
  {
   "cell_type": "markdown",
   "metadata": {
    "signature": "ca4205897b5d1a20b57f766c8a6275337b8b97bcf645585cc4e43de5"
   },
   "source": [
    "## Discussion (5% of marks)\n",
    "\n",
    "What conclusions can you make about CLIR, or more generally translation and IR? Overall what approaches worked and what ones didn't? What insights do you have from doing this, put another way, if you were to start again, what approach would you take and why?"
   ]
  },
  {
   "cell_type": "markdown",
   "metadata": {
    "collapsed": true,
    "signature": "d4e6072001dce14282e054e92825323dcee46c1635764fd5dfca84ed"
   },
   "source": [
    "```your analysis text goes here; aim to write a paragraph or two```"
   ]
  }
 ],
 "metadata": {
  "kernelspec": {
   "display_name": "Python 2",
   "language": "python",
   "name": "python2"
  },
  "language_info": {
   "codemirror_mode": {
    "name": "ipython",
    "version": 2
   },
   "file_extension": ".py",
   "mimetype": "text/x-python",
   "name": "python",
   "nbconvert_exporter": "python",
   "pygments_lexer": "ipython2",
   "version": "2.7.5"
  }
 },
 "nbformat": 4,
 "nbformat_minor": 0
}
