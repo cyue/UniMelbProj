{
 "cells": [
  {
   "cell_type": "markdown",
   "metadata": {
    "signature": "789a088e11018ecf46b911f42eb7fb535bcdef5d93733b18d9688d03"
   },
   "source": [
    "# COMP90042 Assignment #1: Sentiment analysis for tweets"
   ]
  },
  {
   "cell_type": "markdown",
   "metadata": {
    "collapsed": true,
    "signature": "807b47a7e2ba3738211fed67899b0887689deedc7a0fa66c0eae3617"
   },
   "source": [
    "Student Name: Cong Yue\n",
    "\n",
    "Student ID: 682020\n",
    "\n",
    "***Notice***: \n",
    "\n",
    "****I zipped train.json, dev.json and test.json with this script. If you demonstrate it, please run in the extracted directory or place all json file and this script in the same directory and then run****"
   ]
  },
  {
   "cell_type": "markdown",
   "metadata": {
    "signature": "58dcfed543d6944e83853f201894729b6cfa2b6d21bd652954f7f44f"
   },
   "source": [
    "## General info"
   ]
  },
  {
   "cell_type": "markdown",
   "metadata": {
    "signature": "875d1c558b2c216775270b7335d5d8c60977d6a8ed66936b11a68d57"
   },
   "source": [
    "<b>Due date</b>: 5pm, Mon April 12\n",
    "\n",
    "<b>Submission method</b>: see LMS\n",
    "\n",
    "<b>Submission materials</b>: completed copy of this ipython notebook\n",
    "\n",
    "<b>Late submissions</b>: -10% per day, no late submissions after the first week\n",
    "\n",
    "<b>Marks</b>: 25% of mark for class\n",
    "\n",
    "<b>Overview</b>: For this project, you'll be building a 3-way polarity classification system for tweets, using a logistic regression classifier, BOW features, as well as polarity lexicons built from external sources. A key focus of this project is critical analysis and experimental evaluation, for which you will need to report on the relative merits of various options. \n",
    "\n",
    "<b>Materials</b>: See the main class LMS page for information on the basic setup required for this class, including an iPython notebook viewer and the python packages NLTK, Numpy, Scipy, Matplotlib, Sci-kit Learn, and Gemsim. In particular, if you are not using a lab computer which already has it installed, we recommend installing all the data for NLTK, since you will need various parts of it to complete this assignment. You can also use any Python build-in packages, but do not use any other 3rd party packages; if your iPython notebook doesn't run on the marker's machine, you will lose marks. You are encouraged to use the iPython notebooks released for this class as well as other online documentation to guide your responses, but you should not copy directly from any source. The only other data you will need is three sets of tagged tweets, the first two of which (training and dev) were released at the same time as this notebook, and a third set (test) which will be made available about a week before the assignment is due, see Final Testing below. This data comes from the recent SemEval 2016 shared task. Do not distribute this data indiscriminately (i.e. put it on a public website), you should use it only for this assignment, and delete it afterwards. The corpus is comprised of unfiltered text from the web, and may include offensive or objectionable material. This reflects the general composition of the web and the general challenges present in web based text analysis. The University of Melbourne takes no responsibility for opinions expressed in the corpus, nor takes any responsibility for offence caused by these documents.\n",
    "\n",
    "<b>Evaluation</b>: Your iPython notebook should run end-to-end without any errors in a reasonable amount of time (less than 10 minutes on a lab desktop), and you must follow all instructions provided below, including specific implementation requirements. You will be marked not only on the correctness of your methods, but also on your explanation and analysis. Please do not change any of instruction text in the notebook. Where applicable, leave the output cells in the code, particularly when you are commenting on that output. You should add your answers and code by inserting a markdown cell between every major function or other block of code explaining its purpose or anywhere a result needs to be discussed (see the class notebooks for examples). Note that even if you do something wrong, you might get partial credit if you explain it enough that we can follow your reasoning, whereas a fully correct assignment with no text commentary will not receive a passing score. You will not be marked directly on the performance of your final classifier, but each of the steps you take to build it should be reasonable and well-defended.\n",
    "\n",
    "<b>Updates</b>: Any major changes to the assignment will be announced via LMS. Minor changes and clarifications will be announced in the forum on LMS, we recommend you check the forum regularly.\n",
    "\n",
    "<b>Academic Misconduct</b>: For most people, collaboration will form a natural part of the undertaking of this project, and we encourage you to discuss it in general terms with other students. However, it is still an individual task, and so reuse of code or other instances of clear influence will be considered cheating. We will be checking submissions for originality and will invoke the University’s <a href=\"http://academichonesty.unimelb.edu.au/policy.html\">Academic Misconduct policy</a> where inappropriate levels of collusion or plagiarism are deemed to have taken place.\n"
   ]
  },
  {
   "cell_type": "markdown",
   "metadata": {
    "signature": "1e3d7d2aeb24e2a301b7f36ea396f4bc0575704bcbc264bc1633150e"
   },
   "source": [
    "## Preprocessing"
   ]
  },
  {
   "cell_type": "markdown",
   "metadata": {
    "collapsed": true,
    "signature": "ad1cb0c46e858dbadc85f39823285e22c986dea9d331a2a8dbc501fa"
   },
   "source": [
    "<b>Instructions</b>: Your first task is to carry out preprocessing on the tweets. Use the code below as a starter. Each line of the input files is a json including the tweet and the label (and the tweet id), this code just loads them into a list without any preprocessing. Note that for the labels, 1 = positive, 0 = neutral, -1 = negative. Here is a list of things your preprocessing code must do:\n",
    "\n",
    "<ul>\n",
    "<li>Segment into sentences: Use NLTK punkt sentence segmenter</li>\n",
    "<li>Tokenize sentences: Use the NLTK regex WordPunct tokenizer</li>\n",
    "<li>Lowercase all words</li>\n",
    "<li>Remove Twitter usernames: Usernames on twitter begin with @</li>\n",
    "<li>Remove URLs: URLs start with http</li> \n",
    "<li>Remove any hashtags from their original location in the tweet, tokenize them, and add them as a separate sentences with the hash tag removed: for tokenization, use capitalized letters when they occur (e.g. #RefugeesWelcome -> Refugees Welcome), or when there is no capitalization (#refugeeswelcome -> refugees welcome) use the MaxMatch algorithm and the list of English words included in NLTK (nltk.corpus.words.words()). Two notes about the English word list: 1. you should convert it to a python set before you use it (sets are hashed, so you get much quicker lookup) 2. It contains only base forms, so you will need to lemmatize words before you look them up.</li>\n",
    "</ul>\n",
    "\n",
    "You can do these in almost any order you like, but it may be useful to do the main segmentation/tokenization last (or almost last), since for the other tasks it is easier to deal with the raw string rather than a list of tokens. The use of regular expressions is recommended, but not required.\n",
    "\n"
   ]
  },
  {
   "cell_type": "code",
   "execution_count": 38,
   "metadata": {
    "collapsed": false,
    "signature": "7187a5341cee7ea361eadead27ee01cc187f7df8062e822c661a3933"
   },
   "outputs": [],
   "source": [
    "import json\n",
    "import re\n",
    "import nltk\n",
    "\n",
    "words = nltk.corpus.words.words()\n",
    "words = frozenset(words)\n",
    "\n",
    "username_url_pattern = re.compile('@\\S+|http://\\S+|https://\\S+')\n",
    "hashtag_pattern = re.compile('#\\w+')\n",
    "cap_token_pattern = re.compile('[A-Z][a-z0-9_]*')\n",
    "\n",
    "def preprocess(tweet):\n",
    "    # remove usernames, URLs\n",
    "    tweet = re.sub(username_url_pattern, '', tweet).strip()\n",
    "    \n",
    "    # remove hashtags\n",
    "    tweet = remove_hashtags(tweet, words)\n",
    "    \n",
    "    # lowercase all words\n",
    "    tweet = tweet.lower()\n",
    "\n",
    "    # segment into sentences\n",
    "    sgmter = nltk.data.load('tokenizers/punkt/english.pickle')\n",
    "    tweet = sgmter.tokenize(tweet)\n",
    "    \n",
    "    # tokenize sentences\n",
    "    tokenizer = nltk.tokenize.regexp.WordPunctTokenizer()\n",
    "    tweet = [tokenizer.tokenize(sentence) for sentence in tweet]\n",
    "    \n",
    "    return tweet"
   ]
  },
  {
   "cell_type": "markdown",
   "metadata": {},
   "source": [
    "**Explanations**: \n",
    "\n",
    "It is easier to do case transformation, username and URL removal than sentence segmentation and tokenization. But the case transformation has to be set after hashtag removal, because when removing hashtags, it needs the feature of capitalized letter to tokenize sentence. So I set username and URL removal firstly, then hashtag removal and case transformation, finally do the segmentation and tokenization by using nltk. The order of preprocessing tasks is as the following list starts with **bullet point**\n",
    "\n",
    "* Remove Twitter usernames\n",
    "* Remove URLs\n",
    "\n",
    "The instruction requires to remove URLs start with **http**, we thought the aim is to remove non-readable text. So we consider it to be reasonable to remove **https** as well.\n",
    "\n",
    "When it comes to hashtags removal, it is not only character removal (#), but also tokenization and lemmatization need to be taken into account. However, tokenization here is different from tokenizing sentences by using nltk, we need to apply max match algorithm, so we operate hashtags' removal ahead of general sentence tokenization. There are two advantages, one is that we do not need to iterates all tokens inside a sentence to find hashtags, which means we reduce the number of iteration; the second is that after nltk regex tokenization, hashtag will be seperated with tagged sentences, which makes the sentence hard to find and tokenize. \n",
    "\n",
    "* Remove and tokenize hashtags.\n",
    "* Lowercase all words\n",
    "* Segment into sentences\n",
    "* Tokenize sentences\n",
    "\n",
    "We pre-compile the regex pattern to speed up the process. This is because we avoid compiling pattern inside the iteration, which is time-consuming. \n",
    "\n"
   ]
  },
  {
   "cell_type": "code",
   "execution_count": 39,
   "metadata": {
    "collapsed": true
   },
   "outputs": [],
   "source": [
    "def remove_hashtags(tweet, words):\n",
    "    tagged_sentences = re.findall(hashtag_pattern, tweet)\n",
    "    for sentence in tagged_sentences:\n",
    "        # start from pos 1 to ignore the first '#' character.\n",
    "        target_sentence = sentence[1:]\n",
    "        # Use capitalized letter when it occurs\n",
    "        cap_tokens = re.findall(cap_token_pattern, target_sentence)\n",
    "        if cap_tokens:\n",
    "            untagged_sentence = ' '.join(cap_tokens)\n",
    "        # use max match and word dictionary to segment hashtagged topics\n",
    "        else:\n",
    "            result = max_match(target_sentence, words)\n",
    "            # remove extra space that produced by max_match at the end.\n",
    "            untagged_sentence = result.strip()\n",
    "        # replace tagged sentence with tokenized sentence\n",
    "        tweet = re.sub(sentence, untagged_sentence, tweet)\n",
    "        \n",
    "    return tweet\n",
    "\n",
    "def max_match(sentence, dic):\n",
    "    if len(sentence) == 0:\n",
    "        return ''\n",
    "    \n",
    "    for idx in xrange(len(sentence),0,-1):\n",
    "        # back traverse the sentence.\n",
    "        token = sentence[:idx]\n",
    "        reminder = sentence[idx:]\n",
    "        # compare using lemmatized tokens\n",
    "        lemmatizer = nltk.stem.wordnet.WordNetLemmatizer()\n",
    "        lemma = lemmatizer.lemmatize(token)\n",
    "        if lemma in dic:\n",
    "            return '%s %s' % (token, max_match(reminder, dic))\n",
    "        \n",
    "    # no one in dic, one character word\n",
    "    token = sentence[:1]\n",
    "    reminder = sentence[1:]\n",
    "    return '%s %s' % (token, max_match(reminder, dic))"
   ]
  },
  {
   "cell_type": "markdown",
   "metadata": {},
   "source": [
    "**Explanation**:\n",
    "\n",
    "We seperate hashtag removal into 3 sections:\n",
    "\n",
    "1. Find substring that starts with '#' followed by printable characters. For single '#' characters and '#' followed by non-alphabet characters, we do not regard them as hashtag for a topic.\n",
    "2. Check if there are capital letters that can seperate the target sentence\n",
    "3. If there is no capital letter, seperate target sentence by using max_match function and word dictionary.\n",
    "\n",
    "We implement recursive version of max match algorithm, and compare the lemma with word in dictionary as required in **instruction**"
   ]
  },
  {
   "cell_type": "code",
   "execution_count": 40,
   "metadata": {
    "collapsed": true
   },
   "outputs": [],
   "source": [
    "def preprocess_file(filename):\n",
    "    tweets = []\n",
    "    labels = []\n",
    "    f = open(filename)\n",
    "    for line in f:\n",
    "        tweet_dict = json.loads(line)\n",
    "        tweets.append(preprocess(tweet_dict[\"text\"]))\n",
    "        labels.append(int(tweet_dict[\"label\"]))\n",
    "    return tweets,labels"
   ]
  },
  {
   "cell_type": "markdown",
   "metadata": {
    "signature": "6a0a44bc91c85a72d4ba4571741fe4e0aac3088ae49a80efed6d1233"
   },
   "source": [
    "<b>Instructions</b>: Once your basic preprocessing module is working, run it on the training set and have it print out 10 examples where your system identified a hashtag with more than one word inside; print out both the original tweet string as well as result after preprocessing. It's okay if you have to duplicate some code from above to do this. Point out any errors you see in the preprocessing, and discuss possible solutions; these can be related to the hashtags, or any other errors you see. You do not have to fix the errors unless they actually indicate a actual bug in your code (at which point you should go back to the previous section, fix the code, and print out the samples again)."
   ]
  },
  {
   "cell_type": "code",
   "execution_count": 77,
   "metadata": {
    "collapsed": false,
    "signature": "5c169632516a1496704cb5ea5082ff3ca3e5c0c69940b9b0ecce4876"
   },
   "outputs": [
    {
     "name": "stdout",
     "output_type": "stream",
     "text": [
      "0. ORIGINAL TWEET [16]: #teens @BillGates 1st company failed miserably. When Gates & @PaulGAllen tried to sell the product it wouldn't work #nevergiveup @Microsoft\n",
      "0. PROCESSED TWEET [16]: [[u'teens', u'1st', u'company', u'failed', u'miserably', u'.'], [u'when', u'gates', u'&', u'tried', u'to', u'sell', u'the', u'product', u'it', u'wouldn', u\"'\", u't', u'work', u'never', u'give', u'up']]\n",
      "\n",
      "1. ORIGINAL TWEET [17]: #Vote for @AIESEC to become the 10th Global non profit partner of @Microsoft for us to #UpgradeYourWorld together. @AIESECGermany\n",
      "1. PROCESSED TWEET [17]: [[u'vote', u'for', u'to', u'become', u'the', u'10th', u'global', u'non', u'profit', u'partner', u'of', u'for', u'us', u'to', u'upgrade', u'your', u'world', u'together', u'.']]\n",
      "\n",
      "2. ORIGINAL TWEET [70]: #llvm 3.7 is the 2nd release to incorporate contributions from my team at @microsoft. Congrats to all involved! :) https://t.co/IUtbNxonfw\n",
      "2. PROCESSED TWEET [70]: [[u'l', u'l', u'v', u'm', u'3', u'.', u'7', u'is', u'the', u'2nd', u'release', u'to', u'incorporate', u'contributions', u'from', u'my', u'team', u'at', u'congrats', u'to', u'all', u'involved', u'!'], [u':)']]\n",
      "\n",
      "3. ORIGINAL TWEET [88]: #Producers Catch me in Dallas Sept 12th at the @Microsoft event.  Also at @A3C in #ATL for the On The Spot Beat Shopping!\n",
      "3. PROCESSED TWEET [88]: [[u'producers', u'catch', u'me', u'in', u'dallas', u'sept', u'12th', u'at', u'the', u'event', u'.'], [u'also', u'at', u'in', u'a', u't', u'l', u'for', u'the', u'on', u'the', u'spot', u'beat', u'shopping', u'!']]\n",
      "\n",
      "4. ORIGINAL TWEET [222]: #RT The 3rd book in The Viking's Apprentice series has been released. Amazon users get it here http://t.co/0pJjo6xXN7 #amreading\n",
      "4. PROCESSED TWEET [222]: [[u'r', u't', u'the', u'3rd', u'book', u'in', u'the', u'viking', u\"'\", u's', u'apprentice', u'series', u'has', u'been', u'released', u'.'], [u'amazon', u'users', u'get', u'it', u'here', u'am', u'reading']]\n",
      "\n",
      "5. ORIGINAL TWEET [401]: #TheVerge Amazon Prime Day is taking over Black Friday: Amazon has created its own holiday. The company just a... http://t.co/fonw146CDG\n",
      "5. PROCESSED TWEET [401]: [[u'the', u'verge', u'amazon', u'prime', u'day', u'is', u'taking', u'over', u'black', u'friday', u':', u'amazon', u'has', u'created', u'its', u'own', u'holiday', u'.'], [u'the', u'company', u'just', u'a', u'...']]\n",
      "\n",
      "6. ORIGINAL TWEET [503]: #Germany's leader Angela Merkel @Angie_Merkel  to run for 4th term, she is in talks about her election campaign according to #DerSpiegel\n",
      "6. PROCESSED TWEET [503]: [[u'germany', u\"'\", u's', u'leader', u'angela', u'merkel', u'to', u'run', u'for', u'4th', u'term', u',', u'she', u'is', u'in', u'talks', u'about', u'her', u'election', u'campaign', u'according', u'to', u'der', u'spiegel']]\n",
      "\n",
      "7. ORIGINAL TWEET [606]: #apple A look at the evolution of Apple's iPhone: Apple will unveil the new iPhone on Wednesday. The next iPho... http://t.co/TEDe4E4fuA\n",
      "7. PROCESSED TWEET [606]: [[u'apple', u'a', u'look', u'at', u'the', u'evolution', u'of', u'apple', u\"'\", u's', u'iphone', u':', u'apple', u'will', u'unveil', u'the', u'new', u'iphone', u'on', u'wednesday', u'.'], [u'the', u'next', u'ipho', u'...']]\n",
      "\n",
      "8. ORIGINAL TWEET [624]: #AppleEvent is about to start! Watch Apple's live stream here: http://t.co/pItt3mUI4B\n",
      "8. PROCESSED TWEET [624]: [[u'apple', u'event', u'is', u'about', u'to', u'start', u'!'], [u'watch', u'apple', u\"'\", u's', u'live', u'stream', u'here', u':']]\n",
      "\n",
      "9. ORIGINAL TWEET [640]: #Tech Apple announces major update to the Apple Watch for September 16th http://t.co/HxjB93UKpg http://t.co/45hl0h59hZ\n",
      "9. PROCESSED TWEET [640]: [[u'tech', u'apple', u'announces', u'major', u'update', u'to', u'the', u'apple', u'watch', u'for', u'september', u'16th']]\n",
      "\n"
     ]
    }
   ],
   "source": [
    "idx = 0 # tweet index in tweets, map each processed tweet with original tweet\n",
    "ptr = 0 # pointer to tweet that has hashtags.\n",
    "tweets, labels = preprocess_file('train.json')\n",
    "f = open('./train.json')\n",
    "for line in f:\n",
    "    # print out 10 examples with hashtags\n",
    "    if ptr >= 10:\n",
    "         break\n",
    "    tweet_dict = json.loads(line)\n",
    "    if re.match(hashtag_pattern, tweet_dict['text']):\n",
    "        print '%s. ORIGINAL TWEET [%s]: %s' % (ptr, idx, tweet_dict['text'])\n",
    "        print '%s. PROCESSED TWEET [%s]: %s' % (ptr, idx, tweets[idx])\n",
    "        print \n",
    "        ptr = ptr + 1\n",
    "    idx = idx + 1"
   ]
  },
  {
   "cell_type": "markdown",
   "metadata": {},
   "source": [
    "**Explanation**: There is an error in the 503th (start from 0, also the 6th from example above) tweet. There is an error on regular expression pattern of username removal. The original tweet has '@Angie_Merkel', the result only remove 'Angie' and left '_Merkel'. The original regex is '@[a-zA-Z0-9]+', the solution is '@\\S+'."
   ]
  },
  {
   "cell_type": "markdown",
   "metadata": {
    "signature": "993c11defaebeb96f1cc09cb29d53694610291ed712755d047edb825"
   },
   "source": [
    "<b>Instructions</b>: The next step will be to convert each of your preprocessed tweets into a feature dictionary, that is, a python dictionary where each entry corresponds to a feature and its value. At this stage, you should just build a bag-of-word feature dict, though you must allow for two possible options: one is to remove stopwords (using the NLTK stopword list), and the other is to remove words appearing <em>less</em> than n times across the entire training set (n<=0 should have no effect). The outer function (convert_to_feature dicts) should take the list of tweets resulting from the preprocess_file, and return a list of feature dictionaries in the same order (so they correspond to the label)"
   ]
  },
  {
   "cell_type": "code",
   "execution_count": 42,
   "metadata": {
    "collapsed": false,
    "signature": "9735e8a4c6a48e7c95f7d367e4cc79ac4f5e66114d2f8ddfb1d73f4f"
   },
   "outputs": [],
   "source": [
    "def convert_to_feature_dicts(tweets,remove_stop_words=set(),n=0):\n",
    "    feature_dicts = []\n",
    "    # record the occurance of tokens based on entire training set\n",
    "    global_feature_dict = {}\n",
    "    for tweet in tweets:\n",
    "        feature_dict = {}\n",
    "        for sentence in tweet:\n",
    "            for token in sentence:\n",
    "                # skip stop words\n",
    "                if token in remove_stop_words:\n",
    "                    continue \n",
    "                # add token into dict\n",
    "                if token not in feature_dict:\n",
    "                    feature_dict.setdefault(token, 1)\n",
    "                else:\n",
    "                    feature_dict[token] = feature_dict[token] + 1\n",
    "                # add token to global dictionary preparing for removing less frequency tokens\n",
    "                if token not in global_feature_dict:\n",
    "                    global_feature_dict.setdefault(token, 1)\n",
    "                else:\n",
    "                    global_feature_dict[token] = global_feature_dict[token] + 1\n",
    "        feature_dicts.append(feature_dict)\n",
    "    \n",
    "    if n <= 0:\n",
    "        return feature_dicts\n",
    "    \n",
    "    # remove feature that occur less than n times\n",
    "    for idx, dic in enumerate(feature_dicts):\n",
    "        for feature in dic.keys():\n",
    "            if global_feature_dict[feature] <= n:\n",
    "                feature_dicts[idx].pop(feature)\n",
    "             \n",
    "    return feature_dicts"
   ]
  },
  {
   "cell_type": "markdown",
   "metadata": {},
   "source": [
    "**Explanation**: \n",
    "\n",
    "According to my implementation, a tweet in tweets is a list and each sentence in a tweet is a list, so I need 3 nested for loop to traverse every tokens in a sentence.\n",
    "\n",
    "`Remove stop words`\n",
    "\n",
    "Build a set (stopwords) of stop words, skip next actions if tokens are in stopwords.\n",
    "\n",
    "`Remove less frequent words`\n",
    "\n",
    "Build a global dictionary that records all words' fequency based on entire training set. Use a for loop to remove less frequent feature from feature_dicts one by one."
   ]
  },
  {
   "cell_type": "markdown",
   "metadata": {
    "signature": "bf26058cdb7c9612e552d173bba26af7d6876a04e7efce2cc5af9843"
   },
   "source": [
    "## Tuning and classifying"
   ]
  },
  {
   "cell_type": "markdown",
   "metadata": {
    "signature": "8b6efe6a6c073b645cc52f0811fe7d94fe0d656af64816e48748d7a1"
   },
   "source": [
    "<b>Instructions</b>: Using the functions you've written, you should produce lists of feature dictionaries for both training and development sets; for the training set, remove stopwords and all words that appear only once (do <em>not</em> this for the dev set). Using scikit learn, convert the data to the sparse representation used for training classifiers."
   ]
  },
  {
   "cell_type": "code",
   "execution_count": 68,
   "metadata": {
    "collapsed": false,
    "signature": "09edf385c287991c866cd5df30ff4b995dd6b4b917e15026dfc31e29"
   },
   "outputs": [],
   "source": [
    "stopwords = frozenset(nltk.corpus.stopwords.words('english'))\n",
    "\n",
    "train_set = 'train.json'\n",
    "train_tweets, train_labels = preprocess_file(train_set)\n",
    "train_feature_dicts = convert_to_feature_dicts(train_tweets, stopwords, 1)\n",
    "\n",
    "dev_set = 'dev.json'\n",
    "dev_tweets, dev_labels = preprocess_file(dev_set)\n",
    "dev_feature_dicts = convert_to_feature_dicts(dev_tweets)\n",
    "\n",
    "from sklearn.feature_extraction import DictVectorizer\n",
    "vectorizer = DictVectorizer()\n",
    "train_data = vectorizer.fit_transform(train_feature_dicts)\n",
    "dev_data = vectorizer.transform(dev_feature_dicts)\n",
    "\n",
    "import numpy as np\n",
    "train_labels = np.asarray(train_labels)\n",
    "dev_labels = np.asarray(dev_labels)"
   ]
  },
  {
   "cell_type": "markdown",
   "metadata": {
    "signature": "1de01fffe89d7da22c3a77add4d511f05236af609acc274af1a73ef6"
   },
   "source": [
    "<b>Instructions</b>: Now, tune a decision tree classifier using accuracy in the development set as the evaluation metric. For this, you need to consider at least 2 parameters of the model likely to influence performance and which make sense in this context; you should read the documentation for the classifier on sci-kit learn website to learn what these parameters are. For any binary or categorical parameters, you should just consider all options. For numerical values, you should start by keep other settings on default and just randomly try a wide range, looking for values above which there is a steep drop-off in performance, or, alternatively, no effect on performance at all (you don't need to show this process in the notebook).  Remember that some parameters should be tested on a logarithmic scale. Once you're fairly confident of a good range for the parameter, divide it up into at least 5 steps (but no more than 10), and carry out a grid search, which is to say an exhaustive exploration of all parameter options within the limits you've set (this should be included in the notebook). Identify the best parameter values, and discuss the influence of the parameters on performance in the development set. Do you think some values of the parameters are resulting in overfitting?  "
   ]
  },
  {
   "cell_type": "code",
   "execution_count": 76,
   "metadata": {
    "collapsed": false,
    "signature": "73166f5c30a1faac2ba23c3af899155e5e59e0e00516b06049aeb7f2"
   },
   "outputs": [
    {
     "name": "stdout",
     "output_type": "stream",
     "text": [
      "[max_features: 0.9,    max_leaf_nodes: 2]\n",
      "Model: DecisionTreeClassifier(class_weight=None, criterion='gini', max_depth=None,\n",
      "            max_features=0.9, max_leaf_nodes=2, min_samples_leaf=1,\n",
      "            min_samples_split=2, min_weight_fraction_leaf=0.0,\n",
      "            presort=False, random_state=None, splitter='best')\n",
      "Accuracy: 0.44669218152\n",
      "\n",
      "[max_features: 0.9,    max_leaf_nodes: 10]\n",
      "Model: DecisionTreeClassifier(class_weight=None, criterion='gini', max_depth=None,\n",
      "            max_features=0.9, max_leaf_nodes=10, min_samples_leaf=1,\n",
      "            min_samples_split=2, min_weight_fraction_leaf=0.0,\n",
      "            presort=False, random_state=None, splitter='best')\n",
      "Accuracy: 0.48277747403\n",
      "\n",
      "[max_features: 0.9,    max_leaf_nodes: 50]\n",
      "Model: DecisionTreeClassifier(class_weight=None, criterion='gini', max_depth=None,\n",
      "            max_features=0.9, max_leaf_nodes=50, min_samples_leaf=1,\n",
      "            min_samples_split=2, min_weight_fraction_leaf=0.0,\n",
      "            presort=False, random_state=None, splitter='best')\n",
      "Accuracy: 0.485511208311\n",
      "\n",
      "[max_features: 0.99,    max_leaf_nodes: 2]\n",
      "Model: DecisionTreeClassifier(class_weight=None, criterion='gini', max_depth=None,\n",
      "            max_features=0.99, max_leaf_nodes=2, min_samples_leaf=1,\n",
      "            min_samples_split=2, min_weight_fraction_leaf=0.0,\n",
      "            presort=False, random_state=None, splitter='best')\n",
      "Accuracy: 0.44669218152\n",
      "\n",
      "[max_features: 0.99,    max_leaf_nodes: 10]\n",
      "Model: DecisionTreeClassifier(class_weight=None, criterion='gini', max_depth=None,\n",
      "            max_features=0.99, max_leaf_nodes=10, min_samples_leaf=1,\n",
      "            min_samples_split=2, min_weight_fraction_leaf=0.0,\n",
      "            presort=False, random_state=None, splitter='best')\n",
      "Accuracy: 0.48277747403\n",
      "\n",
      "[max_features: 0.99,    max_leaf_nodes: 50]\n",
      "Model: DecisionTreeClassifier(class_weight=None, criterion='gini', max_depth=None,\n",
      "            max_features=0.99, max_leaf_nodes=50, min_samples_leaf=1,\n",
      "            min_samples_split=2, min_weight_fraction_leaf=0.0,\n",
      "            presort=False, random_state=None, splitter='best')\n",
      "Accuracy: 0.485511208311\n",
      "\n",
      "The best parameters are: max_features - 0.9, \tmax_leaf_nodes - 50\n"
     ]
    }
   ],
   "source": [
    "from sklearn.tree import DecisionTreeClassifier\n",
    "from sklearn.metrics import accuracy_score\n",
    "\n",
    "clf = DecisionTreeClassifier(criterion='gini',)\n",
    "\n",
    "# grid search params\n",
    "param_grid = {'max_features': [.9, .99],\n",
    "             'max_leaf_nodes': [2,10,50]}\n",
    "\n",
    "# accuracy to params dictionary\n",
    "acc_score_dict = {}\n",
    "for param_out in param_grid['max_features']:\n",
    "    for param_in in param_grid['max_leaf_nodes']:\n",
    "        clf.set_params(max_features=param_out,\n",
    "                       max_leaf_nodes=param_in)\n",
    "        clf.fit(train_data, train_labels)\n",
    "        preds = clf.predict(dev_data)\n",
    "        print '[max_features: %s,    max_leaf_nodes: %s]' % (param_out, param_in)\n",
    "        print 'Model: %s' % clf\n",
    "        acc = accuracy_score(dev_labels, preds)\n",
    "        print 'Accuracy: %s\\n' % acc\n",
    "        acc_score_dict.setdefault(acc, (param_out, param_in))\n",
    "print 'The best parameters are: max_features - %s, \\tmax_leaf_nodes - %s' % \\\n",
    "        (acc_score_dict[max(acc_score_dict.keys())][0], \n",
    "        acc_score_dict[max(acc_score_dict.keys())][1])"
   ]
  },
  {
   "cell_type": "markdown",
   "metadata": {},
   "source": [
    "**Explanation**:\n",
    "\n",
    "The best parameter values of the pair params we choose is: `max_features`: 0.9, `max_leaf_nodes`: 50 \n",
    "\n",
    "The value of ***max_features*** decides what percentage of total features (in our case it is 10890) are used to split nodes. The more features are used for spliting a node, the more the tree tend to overfit, but too small of that value  underfit the groud truth on the contrary. So I choose '0.9', most of features for each node spliting, and '0.99', almost all of features to check whether it overfits. The result report above gives the positive answer, every example that max_features=0.99 has lower accuracy than the corresponding example ( example holding max_leaf_nodes static).\n",
    "\n",
    "The value of ***max_leaf_nodes*** defines the stop criteria of the growth of tree. The deeper the tree grows, the smaller the node that leaf contain, which means the more granular the model fit the observations. This is bad, the structure risk rises. As we can see from the result on development set, the smaller the value, the lower of the accuracy. I still do not have a clue about which is better, 10 or 50, and the grid search result gives me the answer: 50. However, this is not the larger the better. It underfits if the value is too small, because the tree depth will be very short."
   ]
  },
  {
   "cell_type": "markdown",
   "metadata": {
    "signature": "3d71c50b900df2f3ee10d073c3e1a069a3df91b89d7cbece1d299c25"
   },
   "source": [
    "<b>Instructions</b>: Carry out the same tuning process with the logistic regression classifier. Compare the performance of the two classifiers to each other, and to the most common class baseline. How are the classifiers doing? Is this a challenging task?"
   ]
  },
  {
   "cell_type": "code",
   "execution_count": 45,
   "metadata": {
    "collapsed": false,
    "signature": "ef2d9146a359cecd9de02b685c1cddb938c6bf4b8bc684b5c207a5fe"
   },
   "outputs": [
    {
     "name": "stdout",
     "output_type": "stream",
     "text": [
      "[C: 0.01,    max_iter: 10]\n",
      "Model: LogisticRegression(C=0.01, class_weight=None, dual=False, fit_intercept=True,\n",
      "          intercept_scaling=1, max_iter=10, multi_class='multinomial',\n",
      "          n_jobs=1, penalty='l2', random_state=None, solver='lbfgs',\n",
      "          tol=0.0001, verbose=0, warm_start=False)\n",
      "Accuracy: 0.498086386003\n",
      "\n",
      "[C: 0.01,    max_iter: 100]\n",
      "Model: LogisticRegression(C=0.01, class_weight=None, dual=False, fit_intercept=True,\n",
      "          intercept_scaling=1, max_iter=100, multi_class='multinomial',\n",
      "          n_jobs=1, penalty='l2', random_state=None, solver='lbfgs',\n",
      "          tol=0.0001, verbose=0, warm_start=False)\n",
      "Accuracy: 0.492072170585\n",
      "\n",
      "[C: 0.1,    max_iter: 10]\n",
      "Model: LogisticRegression(C=0.1, class_weight=None, dual=False, fit_intercept=True,\n",
      "          intercept_scaling=1, max_iter=10, multi_class='multinomial',\n",
      "          n_jobs=1, penalty='l2', random_state=None, solver='lbfgs',\n",
      "          tol=0.0001, verbose=0, warm_start=False)\n",
      "Accuracy: 0.488791689448\n",
      "\n",
      "[C: 0.1,    max_iter: 100]\n",
      "Model: LogisticRegression(C=0.1, class_weight=None, dual=False, fit_intercept=True,\n",
      "          intercept_scaling=1, max_iter=100, multi_class='multinomial',\n",
      "          n_jobs=1, penalty='l2', random_state=None, solver='lbfgs',\n",
      "          tol=0.0001, verbose=0, warm_start=False)\n",
      "Accuracy: 0.500273373428\n",
      "\n",
      "[C: 1,    max_iter: 10]\n",
      "Model: LogisticRegression(C=1, class_weight=None, dual=False, fit_intercept=True,\n",
      "          intercept_scaling=1, max_iter=10, multi_class='multinomial',\n",
      "          n_jobs=1, penalty='l2', random_state=None, solver='lbfgs',\n",
      "          tol=0.0001, verbose=0, warm_start=False)\n",
      "Accuracy: 0.492072170585\n",
      "\n",
      "[C: 1,    max_iter: 100]\n",
      "Model: LogisticRegression(C=1, class_weight=None, dual=False, fit_intercept=True,\n",
      "          intercept_scaling=1, max_iter=100, multi_class='multinomial',\n",
      "          n_jobs=1, penalty='l2', random_state=None, solver='lbfgs',\n",
      "          tol=0.0001, verbose=0, warm_start=False)\n",
      "Accuracy: 0.492072170585\n",
      "\n",
      "The best parameters are: C - 0.1, \tmax_iter - 100\n"
     ]
    }
   ],
   "source": [
    "from sklearn.linear_model import LogisticRegression\n",
    "\n",
    "clf = LogisticRegression(solver='lbfgs',\n",
    "                         multi_class='multinomial')\n",
    "\n",
    "# grid search params\n",
    "param_grid = {'C': [0.01, 0.1, 1],\n",
    "             'max_iter': [10, 100]}\n",
    "\n",
    "# accuracy to params dictionary\n",
    "acc_score_dict = {}\n",
    "for param_out in param_grid['C']:\n",
    "    for param_in in param_grid['max_iter']:\n",
    "        clf.set_params(C=param_out,\n",
    "                       max_iter=param_in)\n",
    "        clf.fit(train_data, train_labels)\n",
    "        preds = clf.predict(dev_data)\n",
    "        print '[C: %s,    max_iter: %s]' % (param_out, param_in)\n",
    "        print 'Model: %s' % clf\n",
    "        acc = accuracy_score(dev_labels, preds)\n",
    "        print 'Accuracy: %s\\n' % acc\n",
    "        acc_score_dict.setdefault(acc, (param_out, param_in))\n",
    "print 'The best parameters are: C - %s, \\tmax_iter - %s' % \\\n",
    "        (acc_score_dict[max(acc_score_dict.keys())][0], \n",
    "        acc_score_dict[max(acc_score_dict.keys())][1])"
   ]
  },
  {
   "cell_type": "markdown",
   "metadata": {},
   "source": [
    "**Explanation**:\n",
    "\n",
    "Logistic regression is a bit better than decision tree classifier based on accuracy. We believe this is because decision tree is more tend to overfit given too many features (10890 in our case). We drove this by 2 reasons:\n",
    "\n",
    "1. Accuracy of cross validation on training set is better than accuracy on development set\n",
    "2. Accuracy increases a little when apply PCA to 1000 features before fit the training set.\n",
    "\n",
    "With chosen the best params, LogisticRegression classifier (acc: 49%) is slightly better than DecisionTreeClassifier (acc: 43%). Considering the baseline of 3 category classification problem baseline (acc: 33.3%), they are not bad but not impressive. Document classification is indeed a challenging task. "
   ]
  },
  {
   "cell_type": "markdown",
   "metadata": {
    "signature": "807e02e8c00d7896d78a72b6b18396a073c05a7927937c667dc931b2"
   },
   "source": [
    "<b>Instructions</b>: The next task is a slight detour to test your understanding of the logistic regression classifier: you are going to build your own classifier based on the trained model from sci-kit learn. In particular, you should fill in the MyLogisticRegression class started below which is initialized using the feature weights (coefficients) and constants (intercepts) and list of labels (classes) from the sci-kit learn classifier (see the \"Attributes\" in the documentation for the Logistic Regression classifier), and which mimics the predict and predict_proba methods from the sci-kit learn classifier object. You should confirm that your solution works by using it in the task at hand: take the classifier defined below, train it on the training data, then create an instance of MyLogisticRegression, and show that your classifier has the same output as the scikit-learn classifier for both predict and predict_proba for 5 samples from the development set. "
   ]
  },
  {
   "cell_type": "code",
   "execution_count": 46,
   "metadata": {
    "collapsed": false,
    "signature": "629a209c0482571ac9af40d7b69c6a28b0fd935ae83cad045209ac4d"
   },
   "outputs": [
    {
     "name": "stdout",
     "output_type": "stream",
     "text": [
      "LogisticRegression[Predictions of Top 5 samples]:\n",
      "[ 0  0  1 -1  1]\n",
      "MyLogisticRegression[Predictions of Top 5 samples]:\n",
      "[ 0  0  1 -1  1]\n",
      "---------------------------------------------------------------------------------------------------------------\n",
      "LogisticRegression[Probability of Top 5 samples]:\n",
      "[[ 0.05784951  0.92779904  0.01435145]\n",
      " [ 0.00201099  0.92458026  0.07340875]\n",
      " [ 0.3887802   0.17578476  0.43543504]\n",
      " [ 0.63965137  0.290759    0.06958963]\n",
      " [ 0.04370327  0.35161859  0.60467815]]\n",
      "MyLogisticRegression[Probability of Top 5 samples]:\n",
      "[[ 0.05784951  0.92779904  0.01435145]\n",
      " [ 0.00201099  0.92458026  0.07340875]\n",
      " [ 0.3887802   0.17578476  0.43543504]\n",
      " [ 0.63965137  0.290759    0.06958963]\n",
      " [ 0.04370327  0.35161859  0.60467815]]\n"
     ]
    }
   ],
   "source": [
    "from scipy.sparse.csr import csr_matrix\n",
    "\n",
    "class MyLogisticRegression:\n",
    "    \n",
    "    def __init__(self, weights, constants, labels):\n",
    "        # weights: n_class by n_feature matrix\n",
    "        # self.w_: n_class by n_bias+n_feature matrix\n",
    "        self.w_ = np.insert(weights, 0, values=constants, axis=1)\n",
    "        # n_class row vector\n",
    "        self.c = labels\n",
    "        # the number of classes\n",
    "        self.n_class = labels.shape[0]\n",
    "        \n",
    "\n",
    "    def predict_proba(self,X):     \n",
    "        # transform csr matrix to ndarray\n",
    "        X_dense = X.toarray()\n",
    "        # add bias\n",
    "        X_dense = np.insert(X_dense, 0, values=np.ones(X_dense.shape[0]), axis=1)\n",
    "        # back to csr_matrix\n",
    "        X = csr_matrix(X_dense)\n",
    "        \n",
    "        # exp(xw') / SUM(exp(xw'))\n",
    "        return np.exp(X * self.w_.T) / \\\n",
    "                np.repeat(np.sum(np.exp(X * self.w_.T), axis=1, keepdims=True), \n",
    "                          self.n_class, axis=1)\n",
    "        \n",
    "        \n",
    "    def predict(self,X):\n",
    "        # transform csr matrix to ndarray\n",
    "        X_dense = X.toarray()\n",
    "        # add bias\n",
    "        X_dense = np.insert(X_dense, 0, values=np.ones(X_dense.shape[0]), axis=1)\n",
    "        # back to csr_matrix\n",
    "        X = csr_matrix(X_dense)\n",
    "        \n",
    "        # exp(xw') comparison\n",
    "        pred_class_indices = np.argmax(np.exp(X * self.w_.T), axis=1)\n",
    "        return self.c[pred_class_indices]\n",
    "    \n",
    "    \n",
    "clf = LogisticRegression(solver='lbfgs', multi_class='multinomial')\n",
    "clf.fit(train_data, train_labels)\n",
    "\n",
    "my_clf = MyLogisticRegression(clf.coef_, clf.intercept_, clf.classes_)\n",
    "print \"LogisticRegression[Predictions of Top 5 samples]:\"\n",
    "print clf.predict(dev_data[:5,:])\n",
    "print \"MyLogisticRegression[Predictions of Top 5 samples]:\"\n",
    "print my_clf.predict(dev_data[:5,:])\n",
    "print '---------------------------------------------------------------------------------------------------------------'\n",
    "print \"LogisticRegression[Probability of Top 5 samples]:\"\n",
    "print clf.predict_proba(dev_data[:5,:])\n",
    "print \"MyLogisticRegression[Probability of Top 5 samples]:\"\n",
    "print my_clf.predict_proba(dev_data[:5,:])"
   ]
  },
  {
   "cell_type": "markdown",
   "metadata": {},
   "source": [
    "**Explanation**:\n",
    "\n",
    "Considering the fact that all data are either ndarray type or matrix, I choose to directly use linear algebra operation to get the result. \n",
    "\n",
    "In constructor (`__init__`), we need to add intercept to weights.\n",
    "\n",
    "For function `predict_proba`, we need to firstly add intercept to `X`, then calculate the full softmax result, aka ***exp(xw') / SUM(exp(xw'))***.\n",
    "\n",
    "For function `predict`, we also firstly add intercept to `X`, then we only need to calculate ***exp(xw')***. Because for all three candidates, they share the same dinominator (`SUM(exp(xw'))`)\n",
    "\n",
    "A trick really consume me a lot of time is that training set and dev set are all ***csr matrix***, a compressed sparse matrix from `scipy`. If we want to add bias simply and logically, we need to transform it to ***dense matrix*** or ***ndarray***, add dummy, then transform it back to csr matrix. "
   ]
  },
  {
   "cell_type": "markdown",
   "metadata": {
    "signature": "9d9111395cbc372f1dd8f06e0d80e6ede9b3fcd44d8ade5c1722309d"
   },
   "source": [
    "## Polarity Lexicons"
   ]
  },
  {
   "cell_type": "markdown",
   "metadata": {
    "signature": "89e30d51a6a2adecbed61927fff337db531dfb032a21657f5a642280"
   },
   "source": [
    "<b>Instructions</b>: Next we will try integrating information from sources beyond the training set, in the form of polarity lexicons. The main focus of this section is producing and evaluating 3 automatically-built polarity lexicons. The first of these lexicons is SentiWordNet, which is <a href=\"http://www.nltk.org/howto/sentiwordnet.html\"> accessible through NLTK</a>. SentiWordNet has precalculated scores for positive, negative, and neutral sentiment for some of the words in WordNet, but, like WordNet, it is arranged in synsets; building a WSD system to handle this is beyond the scope of this assignment, instead you should take the most common polarity across its senses (neutral if there is a tie). Do this by iterating through all the synsets in WordNet (which may take a little while, the code snippet below has a counter to show your progress), and then create two lists, one of positive words, one of negative words. Show 5 examples of each of the positive and negative words, and comment on their quality."
   ]
  },
  {
   "cell_type": "code",
   "execution_count": 47,
   "metadata": {
    "collapsed": false,
    "signature": "e0b2441f54f52af9e1c4732ebf1d382d0106dec635577093bf47cf9d"
   },
   "outputs": [
    {
     "name": "stdout",
     "output_type": "stream",
     "text": [
      "Positive: direct\t\t\tNegative: unable\n",
      "Positive: living\t\t\tNegative: relative\n",
      "Positive: ascetic\t\t\tNegative: comparative\n",
      "Positive: ascetical\t\t\tNegative: assimilating\n",
      "Positive: austere\t\t\tNegative: assimilative\n"
     ]
    }
   ],
   "source": [
    "from nltk.corpus import sentiwordnet as swn\n",
    "from nltk.corpus import wordnet as wn\n",
    "\n",
    "\n",
    "count = 0\n",
    "# list that store positive sentiment synsets\n",
    "pos_words_swn = []\n",
    "# list that store negative sentiment synsets\n",
    "neg_words_swn = []\n",
    "\n",
    "def get_polarity_type(synset_name):\n",
    "    swn_synset =  swn.senti_synset(synset_name)\n",
    "    if not swn_synset:\n",
    "        return None\n",
    "    elif swn_synset.pos_score() > swn_synset.neg_score() and swn_synset.pos_score() > swn_synset.obj_score():\n",
    "        return 1\n",
    "    elif swn_synset.neg_score() > swn_synset.pos_score() and swn_synset.neg_score() > swn_synset.obj_score():\n",
    "        return -1\n",
    "    else:\n",
    "        return 0\n",
    "\n",
    "    \n",
    "for synset in wn.all_synsets():\n",
    "    count += 1\n",
    "        \n",
    "    if get_polarity_type(synset.name()) > 0:\n",
    "        for lemma in synset.lemma_names():\n",
    "            pos_words_swn.append(lemma)\n",
    "    elif get_polarity_type(synset.name()) < 0:\n",
    "        for lemma in synset.lemma_names():\n",
    "            neg_words_swn.append(lemma)\n",
    "    else:\n",
    "        continue\n",
    "\n",
    "for i in xrange(5):\n",
    "    print 'Positive: %s\\t\\t\\tNegative: %s' % (pos_words_swn[i], neg_words_swn[i])"
   ]
  },
  {
   "cell_type": "markdown",
   "metadata": {},
   "source": [
    "**Explanation**:\n",
    "\n",
    "From the definition of `WordNet` of a synset, all examples are classified reasonable. But some word, in a specific context, it is not always convincing. For example, the word ***austere*** is categorized as positive, while the definition in `WordNet` of `austere.s.01` is \"severely simple\", obviously negative. The counterpart example is ***assimilating*** that is neutral, not only according to human sense, but from the the defination in `WordNet` as illustrated in `assimilating.s.01`. "
   ]
  },
  {
   "cell_type": "markdown",
   "metadata": {
    "signature": "f85a3c2a409bc06239d47c31fbc20b7889824a9c37e41e550d621189"
   },
   "source": [
    "<b>Instructions</b>: The second lexicon will be built using the word2vec (CBOW) vectors included in NLTK. For this, you will need a small set of positive and negative seed terms, which are given to you below. Calculate cosine similarity between vectors of the seeds terms and each of the words for which you have vectors (if you use Gensim, you can iterate over model.vocab), flip the sign for the negative seeds, and then average to get a score. Use this score to produce a list of positive and negative words; you should include a threshold of ±0.03 for words to be considered positive or negative. Again, show 5 examples of each of the positive and negative words, and comment on their quality."
   ]
  },
  {
   "cell_type": "code",
   "execution_count": 48,
   "metadata": {
    "collapsed": false,
    "signature": "7305295a2e9e89c2e109557ce906214837fa83164b04d55055c7d606"
   },
   "outputs": [
    {
     "name": "stdout",
     "output_type": "stream",
     "text": [
      "-------------------------Positive 5 examples--------------------------\n",
      "[u'loen', u'pergamon', u'feasibility', u'pampa', u'modest']\n",
      "-------------------------Negative 5 examples--------------------------\n",
      "[u'debts', u'clotted', u'hastily', u'comically', u'disobeying']\n"
     ]
    }
   ],
   "source": [
    "positive_seeds = [\"good\",\"nice\",\"excellent\",\"positive\",\"fortunate\",\"correct\",\"superior\",\"great\"]\n",
    "negative_seeds = [\"bad\",\"nasty\",\"poor\",\"negative\",\"unfortunate\",\"wrong\",\"inferior\",\"awful\"]\n",
    "\n",
    "from gensim import models\n",
    "sample = str(nltk.data.find('models/word2vec_sample/pruned.word2vec.txt'))\n",
    "model = models.Word2Vec.load_word2vec_format(sample, binary=False)\n",
    "    \n",
    "pos_words_cos = []\n",
    "neg_words_cos = []\n",
    "\n",
    "# build positive/negative word list\n",
    "for word in model.vocab:\n",
    "    pos_length, neg_length = len(positive_seeds), len(negative_seeds)\n",
    "    sim_array = np.zeros(pos_length + neg_length)\n",
    "    for idx, pos in enumerate(positive_seeds):\n",
    "        sim_array[idx] = model.similarity(pos, word)\n",
    "    for idx, neg in enumerate(negative_seeds):\n",
    "        # flip the sign\n",
    "        sim_array[pos_length+idx] = - model.similarity(neg, word)\n",
    "    # average the score\n",
    "    score = np.sum(sim_array) / len(sim_array)\n",
    "    if score >= 0.03:\n",
    "        pos_words_cos.append(word.lower())\n",
    "    elif score <= -0.03:\n",
    "        neg_words_cos.append(word.lower())\n",
    "        \n",
    "print '-------------------------Positive 5 examples--------------------------'\n",
    "print pos_words_cos[:5]\n",
    "print '-------------------------Negative 5 examples--------------------------'   \n",
    "print neg_words_cos[:5]"
   ]
  },
  {
   "cell_type": "markdown",
   "metadata": {},
   "source": [
    "**Explanation**:\n",
    "\n",
    "Considering the positive 5 example, only ***feasibility*** and ***modest*** are reasonably positive words. Other 3 words are either name of place or name of person, which is really hard to add polarity meaning to them. However, at least we can assume that this model tend to classify names to be positive based on examples, so we need to be cautious when using it.\n",
    "\n",
    "Examples from negative list are impressive, all 5 words have apparent nagative senses. \n",
    "\n",
    "If only refer the examples, it is recommended that we shall use negative word list from this model. "
   ]
  },
  {
   "cell_type": "markdown",
   "metadata": {
    "signature": "466d6a60e0221d5cbc396cdaed5ff809b08019c160f06cbd290695aa"
   },
   "source": [
    "<b>Instructions</b>: The third lexicon will be built by calculating PPMI with the seed terms. For this, use the Brown corpus included in NLTK, with co-occurrence defined as <em>binary</em> text co-occurrence (that is, multiple co-occurrences in the same text are not counted); importantly, your solution should <em>not</em> calculate the entire co-occurrence matrix, since you only care about relative co-occurrence with the seeds. As above, average the resulting similarity scores after switching the sign for the negative seeds and use them to produce a list of positive and negative words, and check 5 of each. For PPMI, use a threshold of  ±0.3 for deciding if a word is neutral."
   ]
  },
  {
   "cell_type": "code",
   "execution_count": 49,
   "metadata": {
    "collapsed": false,
    "signature": "da511e2c332ffcf4b12e0910fd8bf20260decfd3d5901d4bb2971dee"
   },
   "outputs": [
    {
     "name": "stdout",
     "output_type": "stream",
     "text": [
      "-------------------------Positive 5 examples--------------------------\n",
      "[u'term-end', u'presentments', u'september-october', u'durwood', u'pye']\n",
      "-------------------------Negative 5 examples--------------------------\n",
      "[u'registration', u'pearl', u'1958', u'insure', u'smooth']\n"
     ]
    }
   ],
   "source": [
    "from nltk.corpus import brown\n",
    "from gensim import corpora\n",
    "from itertools import izip\n",
    "\n",
    "def get_pos_neg_words(positive_seeds, negative_seeds):\n",
    "    # build seed to id dictionary, id starts from 0\n",
    "    seed2id = dict(zip(positive_seeds+negative_seeds, \n",
    "                       range(len(positive_seeds) + len(negative_seeds))))\n",
    "\n",
    "    # build texts & word to id & id to word dictionary, all id starts from 0\n",
    "    word2id = {}\n",
    "    texts = []\n",
    "    for fileid in brown.fileids():\n",
    "        text = [word.lower() for word in brown.words(fileid)]\n",
    "        texts.append(text)\n",
    "        for word in text:\n",
    "            if word in seed2id:\n",
    "                # add only relavant word to dictionary\n",
    "                for token in text:\n",
    "                    if token not in word2id:\n",
    "                        word2id.setdefault(token, len(word2id))\n",
    "    id2word = dict(izip(word2id.itervalues(), word2id.iterkeys()))\n",
    "\n",
    "    # build a relavant word by seed matrix\n",
    "    word_seed_matrix = np.zeros((len(word2id), len(seed2id)))\n",
    "\n",
    "    # iterate all texts to udpate word-by-seed matrix\n",
    "    for text in texts:\n",
    "        distinct_seeds = set()\n",
    "        for word in text:\n",
    "            # ignore if seed never appears or appears more than once in the text\n",
    "            if word not in seed2id or word in distinct_seeds:\n",
    "                continue\n",
    "            for occur in text:\n",
    "                word_seed_matrix[word2id[occur], seed2id[word]] += 1.\n",
    "            # update dictinct_seeds \n",
    "            distinct_seeds.add(word)\n",
    "\n",
    "    # calc PPMI for word by seed matrix\n",
    "    count_all = np.sum(word_seed_matrix)\n",
    "    p_x_y_matrix = word_seed_matrix / count_all\n",
    "    p_x_vector = np.sum(word_seed_matrix, axis=1, keepdims=True) / count_all\n",
    "    p_y_vector = np.sum(word_seed_matrix, axis=0, keepdims=True) / count_all\n",
    "\n",
    "    with np.errstate(divide='ignore'):\n",
    "        pmi_matrix = np.log2(p_x_y_matrix / np.dot(p_x_vector, p_y_vector)) \n",
    "    # set PMI of independent pair to 0 \n",
    "    pmi_matrix = np.where(np.isneginf(pmi_matrix), 0, pmi_matrix) \n",
    "    # calc PPMI\n",
    "    ppmi_matrix = np.where(pmi_matrix < 0, 0, pmi_matrix)\n",
    "    # flip sign for negative vectors\n",
    "    ppmi_matrix[:,len(positive_seeds):] = - ppmi_matrix[:, len(positive_seeds):]\n",
    "    ppmi_score_matrix = ppmi_matrix\n",
    "\n",
    "    #generate positive/negative word list\n",
    "    score_vector = np.sum(ppmi_score_matrix, axis=1) / ppmi_score_matrix.shape[1]\n",
    "    pos_word_ids = np.nonzero(score_vector >= 0.3)[0]\n",
    "    neg_word_ids = np.nonzero(score_vector <= -0.3)[0]\n",
    "    pos_words = [id2word[id] for id in pos_word_ids]\n",
    "    neg_words = [id2word[id] for id in neg_word_ids]\n",
    "    \n",
    "    return pos_words, neg_words\n",
    "\n",
    "pos_words_ppmi, neg_words_ppmi = get_pos_neg_words(positive_seeds, negative_seeds)\n",
    "print '-------------------------Positive 5 examples--------------------------'\n",
    "print pos_words_ppmi[:5]\n",
    "print '-------------------------Negative 5 examples--------------------------'   \n",
    "print neg_words_ppmi[:5]"
   ]
  },
  {
   "cell_type": "markdown",
   "metadata": {},
   "source": [
    "**Explanation**:\n",
    "\n",
    "`Explanation of method`: When calculating PMI, we need to store each co-occurrence count and sum over 2 dimentions (1 over word in tweet, the other over seeds), so I prefer using matrix that simplify the calculation using numpy package. \n",
    "\n",
    "`Explanation of results`: All classification results from examples are weird. From my own opinion, the word ***smooth*** that in the negative list even conveys positive sense. We should pay more attention using our PPMI model"
   ]
  },
  {
   "cell_type": "markdown",
   "metadata": {
    "signature": "e5d9e1b6fcc30a1a11d462200941ac3fe3c2be6ecf798ebb2ee1fad8"
   },
   "source": [
    "<b>Instructions</b>: Now you will test these automatically-produced lexicons against a manually-annotated set. There is a manually-built lexicon (the Hu and Liu lexicon) which is included with NLTK. It has a list of positive and negative words, which are accessed as below. First, investigate what percentage of the words in the manual lexicon are in each of the automatic lexicons, and then, only for those words which overlap and which are <em>not</em> in the seed set, evaluate the accuracy of with each of the automatic lexicons. Discuss the results, mentioning why you think the lexicon which won out did."
   ]
  },
  {
   "cell_type": "code",
   "execution_count": 50,
   "metadata": {
    "collapsed": false,
    "signature": "da057518000cd75efb08186052270ebecdd1ecded5559f6436e5c6c9"
   },
   "outputs": [
    {
     "name": "stdout",
     "output_type": "stream",
     "text": [
      "////////////////////////////////////////////////////////\n",
      "Ratios of automatic lexicons compared to Hu&Liu lexicon: \n",
      "SentiWorldNet: 0.150165016502(positive), 0.218256475047(negative)\n",
      "Seed generated (cosine similarity): 0.214336917563(positive), 0.218256475047(negative)\n",
      "Seed generated (PPMI): 0.0166056853363(positive), 0.0784917275875(negative)\n",
      "////////////////////////////////////////////////////////\n",
      "Accuracies of automatic lexicons (Take Hu & Liu lexicons as groud truth): \n",
      "SentiWorldNet, positive accuracy: 0.273273273273, negative accuracy: 0.28942408377\n",
      "Seed generated lexicon by using cosine similarity, positive accuracy: 0.299299299299, negative accuracy: 0.413612565445\n",
      "Seed generated lexicon by using PPMI, positive accuracy: 0.0295295295295, negative accuracy: 0.042722513089\n"
     ]
    }
   ],
   "source": [
    "from nltk.corpus import opinion_lexicon\n",
    "positive_words = opinion_lexicon.positive()\n",
    "negative_words = opinion_lexicon.negative()\n",
    "\n",
    "pos_swn_set, neg_swn_set = set(pos_words_swn), set(neg_words_swn)\n",
    "pos_cosine_set, neg_cosine_set = set(pos_words_cos), set(neg_words_cos)\n",
    "pos_ppmi_set, neg_ppmi_set = set(pos_words_ppmi), set(neg_words_ppmi)\n",
    "\n",
    "pos_hl_set, neg_hl_set = set(positive_words), set(negative_words)\n",
    "\n",
    "swn_ratio = (len( pos_hl_set & pos_swn_set ) / float(len(pos_swn_set)), \n",
    "             len( neg_hl_set & neg_swn_set ) / float(len(neg_swn_set)))\n",
    "cosine_ratio = (len( pos_hl_set & pos_cosine_set ) / float(len(pos_cosine_set)),\n",
    "                len( neg_hl_set & neg_cosine_set ) / float(len(neg_cosine_set)))\n",
    "ppmi_ratio =  (len( pos_hl_set & pos_ppmi_set ) / float(len(pos_ppmi_set)),\n",
    "               len( neg_hl_set & neg_ppmi_set ) / float(len(neg_ppmi_set)))\n",
    "\n",
    "print '////////////////////////////////////////////////////////'\n",
    "print 'Ratios of automatic lexicons compared to Hu&Liu lexicon: '\n",
    "print 'SentiWorldNet: %s(positive), %s(negative)' % (swn_ratio[0], swn_ratio[1])\n",
    "print 'Seed generated (cosine similarity): %s(positive), %s(negative)' % (cosine_ratio[0], swn_ratio[1])\n",
    "print 'Seed generated (PPMI): %s(positive), %s(negative)' % (ppmi_ratio[0], ppmi_ratio[1])\n",
    "\n",
    "pos_seed_set, neg_seed_set = set(positive_seeds), set(negative_seeds)\n",
    "\n",
    "pos_dinominator = float(len(pos_hl_set - pos_seed_set))\n",
    "neg_dinominator = float(len(neg_hl_set - neg_seed_set))\n",
    "\n",
    "swn_accuracy = (len(pos_hl_set & pos_swn_set) / pos_dinominator,\n",
    "                len(neg_hl_set & neg_swn_set) / neg_dinominator)\n",
    "cosine_accuracy = (len(pos_hl_set & pos_cosine_set) / pos_dinominator,\n",
    "                len(neg_hl_set & neg_cosine_set) / neg_dinominator)\n",
    "ppmi_accuracy = (len(pos_hl_set & pos_ppmi_set) / pos_dinominator,\n",
    "                len(neg_hl_set & neg_ppmi_set) / neg_dinominator)\n",
    "\n",
    "print '////////////////////////////////////////////////////////'\n",
    "print 'Accuracies of automatic lexicons (Take Hu & Liu lexicons as groud truth): '\n",
    "print 'SentiWorldNet, positive accuracy: %s, negative accuracy: %s' % (swn_accuracy[0], swn_accuracy[1])\n",
    "print 'Seed generated lexicon by using cosine similarity, positive accuracy: %s, negative accuracy: %s' % \\\n",
    "        (cosine_accuracy[0], cosine_accuracy[1])\n",
    "print 'Seed generated lexicon by using PPMI, positive accuracy: %s, negative accuracy: %s' % \\\n",
    "        (ppmi_accuracy[0], ppmi_accuracy[1])"
   ]
  },
  {
   "cell_type": "markdown",
   "metadata": {},
   "source": [
    "**Explanation**:\n",
    "\n",
    "If we treat Hu&Liu lexicon as groud truth, we can order the 3 automatic lexicons based on our self-defined accuracy as: CosineSim > SentiWorldNet > PPMI. However, in real cases, we can not roughly use this defination, because manually tagged lexicons are based on some specific human being who may have different backgroud, such as growing in different cultrue, only familiar with specific domain, the understanding of English, etc. \n",
    "\n",
    "From my own perspective, manual lexicons that genrated by domain users (samples created by statistical sampling methods if feasible) can be trusted. "
   ]
  },
  {
   "cell_type": "markdown",
   "metadata": {
    "signature": "94017cf8e33a4c484ac0e569668a8e0a88dad8ad3562a192ab067595"
   },
   "source": [
    "<b>Instructions</b>: Now you will use the lexicons (both manual and automatic) for the main classification problem. Create a function which calculates a polarity score for a sentence based on a given lexicon (i.e. counting positive and negative words that appear in the tweet, and then returning +1 if there are more positive words, -1 if there are more negative words, and 0 otherwise). Then, use this to compare the results of the different lexicons (please convert them to sets!) on the task in the development set, i.e. the accuracy relative to the human-annotated labels. Do the results reflect the quality of the lexicon as indicated by the earlier analysis? How does it compare to the logistic regression classifier?"
   ]
  },
  {
   "cell_type": "code",
   "execution_count": 51,
   "metadata": {
    "collapsed": false,
    "signature": "27208986ce7245a7acdf89740f413ab099ca30dcfbbe6878611e98dd"
   },
   "outputs": [
    {
     "name": "stdout",
     "output_type": "stream",
     "text": [
      "SentWorldNet Lexicon Absolute Loss: 1362.0, \tAccuracy: 0.404045926736\n",
      "CBOW-Cosine Lexicon Absolute Loss: 1195.0, \tAccuracy: 0.453799890651\n",
      "CBOW-PPMI Lexicon Absolute Loss: 1246.0, \tAccuracy: 0.448332422089\n",
      "Hu & Liu Lexicon Absolute Loss: 1286.0, \tAccuracy: 0.372334609076\n"
     ]
    }
   ],
   "source": [
    "def get_polarity_score(tweet, (pos_lexicon, neg_lexicon)):\n",
    "    pos_count, neg_count = 0, 0\n",
    "    for sentence in tweet:\n",
    "        for word in sentence:\n",
    "            if word in pos_lexicon:\n",
    "                pos_count += 1\n",
    "            if word in neg_lexicon:\n",
    "                neg_count += 1\n",
    "    if pos_count > neg_count:\n",
    "        return 1\n",
    "    elif pos_count < neg_count:\n",
    "        return -1\n",
    "    else:\n",
    "        return 0\n",
    "    \n",
    "# construct a tweet by lexicon (4 lexicons) matrix\n",
    "# follow the order: SentWorld Lexicon, CBOW-Cosine Lexicon, CBOW-PPMI Lexicon, Hu-Liu Lexicon\n",
    "tweet_lexicon_matrix = np.zeros((len(dev_tweets), 4))\n",
    "for row, tweet in enumerate(dev_tweets):\n",
    "    tweet_lexicon_matrix[row, 0] = get_polarity_score(tweet, (pos_swn_set, neg_swn_set))\n",
    "    tweet_lexicon_matrix[row, 1] = get_polarity_score(tweet, (pos_hl_set, neg_hl_set))\n",
    "    tweet_lexicon_matrix[row, 2] = get_polarity_score(tweet, (pos_cosine_set, neg_cosine_set))\n",
    "    tweet_lexicon_matrix[row, 3] = get_polarity_score(tweet, (pos_ppmi_set, neg_ppmi_set))\n",
    "\n",
    "# Evalute by absolute error and accuracy\n",
    "X, y = tweet_lexicon_matrix, dev_labels.reshape(len(dev_labels),1)\n",
    "# 4 elem vector\n",
    "abs_error = np.sum(np.fabs(X-y), axis=0)\n",
    "# 4 elem vector\n",
    "accuracy = np.sum(np.where((X-y)==0, 1, 0), axis=0) / float(len(y))\n",
    "    \n",
    "print 'SentWorldNet Lexicon Absolute Loss: %s, \\tAccuracy: %s' % (abs_error[0], accuracy[0])\n",
    "print 'CBOW-Cosine Lexicon Absolute Loss: %s, \\tAccuracy: %s' % (abs_error[1], accuracy[1])\n",
    "print 'CBOW-PPMI Lexicon Absolute Loss: %s, \\tAccuracy: %s' % (abs_error[2], accuracy[2])\n",
    "print 'Hu & Liu Lexicon Absolute Loss: %s, \\tAccuracy: %s' % (abs_error[3], accuracy[3])"
   ]
  },
  {
   "cell_type": "markdown",
   "metadata": {},
   "source": [
    "**Explanation**:\n",
    "\n",
    "The result in this slot is different from the previous slot, especially PPMI accuracy. Accuracy of PPMI is way better than that in the previous slot. \n",
    "\n",
    "Compared to logistic regression, the result is bad, which means in our case, the lexicon method is beat by BOW statistical method.\n",
    "\n",
    "Additional explanation of evaluation:\n",
    "\n",
    "I use not only accuracy, but also absolute loss to evalute, because the accuracy defines error as binary value, it regards error \"-1 vs. 1\" as equal to \"0 vs. 1\", while absolute loss measures error more precisely."
   ]
  },
  {
   "cell_type": "markdown",
   "metadata": {
    "signature": "9869efd812422d6c4a4684b89815a2393eed4e7b85b7611eed6c56aa"
   },
   "source": [
    "<b>Instructions</b>: Now you should investigate the effect of adding the polarity score (or scores) as a feature in your statistical classifier. You should create a new version of your convert_to_feature_dict function (with a different name) to include the extra feature (or features), do not modify the code in that earlier section directly. Retrain your best logistic regression classifier from the early tuning, test on the development set. Comment on the results."
   ]
  },
  {
   "cell_type": "code",
   "execution_count": 52,
   "metadata": {
    "collapsed": false,
    "signature": "38e04dbf26f86e48a64c7e03ac828ccf34335a9fcdbfdd9afd1f9326"
   },
   "outputs": [
    {
     "name": "stdout",
     "output_type": "stream",
     "text": [
      "Accuracy on development set: 0.504647348278\n"
     ]
    }
   ],
   "source": [
    "def construct_feature_dicts(tweets, lexicon_tuples, stopwords=set(), n=0):\n",
    "    ''' Lexicon tuples is a list of tuples - [(),()...], \n",
    "        each tuple is a pair of lexicons - (pos_lexicon, neg_lexicon),\n",
    "        each lexicon is a set'''\n",
    "    feature_dicts = convert_to_feature_dicts(tweets, stopwords, n)\n",
    "    \n",
    "    for tweet_idx, tweet in enumerate(tweets):\n",
    "        for pair_idx, pair in enumerate(lexicon_tuples):\n",
    "            feature_dicts[tweet_idx].setdefault('lexicon_%s' % pair_idx, \n",
    "                             get_polarity_score(tweet, pair))\n",
    "    return feature_dicts\n",
    "\n",
    "lexicon_tuples = [(pos_swn_set, neg_swn_set),\n",
    "                  (pos_cosine_set, neg_cosine_set),\n",
    "                  (pos_ppmi_set, neg_ppmi_set),\n",
    "                  (pos_hl_set, neg_hl_set)\n",
    "                 ]\n",
    "\n",
    "train_feature_dicts = construct_feature_dicts(train_tweets,\n",
    "                                  lexicon_tuples,\n",
    "                                  stopwords,\n",
    "                                  1)\n",
    "dev_feature_dicts = construct_feature_dicts(dev_tweets,lexicon_tuples)\n",
    "\n",
    "from sklearn.linear_model import LogisticRegression\n",
    "from sklearn.metrics import accuracy_score\n",
    "\n",
    "# re-create train set and dev set\n",
    "vectorizer = DictVectorizer()\n",
    "train_data = vectorizer.fit_transform(train_feature_dicts)\n",
    "dev_data = vectorizer.transform(dev_feature_dicts)\n",
    "\n",
    "best_clf = LogisticRegression(solver='lbfgs',\n",
    "                              C=0.1,\n",
    "                              max_iter=100,\n",
    "                              multi_class='multinomial')\n",
    "best_clf.fit(train_data, train_labels)\n",
    "preds = best_clf.predict(dev_data)\n",
    "print 'Accuracy on development set: %s' % accuracy_score(dev_labels, preds)"
   ]
  },
  {
   "cell_type": "markdown",
   "metadata": {},
   "source": [
    "**Explanation**:\n",
    "\n",
    "Compared to logistic regression without lexicon feature (accuracy 50.02%), the result here (accuracy 50.46%) improves a little, but not impressive. Beyond the result in this slot, I also explored all combinations of lexicons, if we number SentiWorldNet case, CosineSim case, PPMI case and Hu&Liu case as 1, 2, 3, 4, We got the accuracy table as:\n",
    "\n",
    "\n",
    "|combination |1     |2     |3     |  4   |  1+2 |  1+3 |  1+4 |  2+3 |  2+4 |  3+4 | 1+2+3| 1+2+4| 2+3+4|1+2+3+4|\n",
    "| ---------- | ---- | ---- | ---- | ---- | ---- | ---- | ---- | ---- | ---- | ---- | ---- | ---- | ---- | ---- |\n",
    "|**accuracy**|0.4908|0.5002|0.5019|0.5084|0.5030|0.4986|0.5068|0.5019|0.5068|0.5079|0.5030|0.5057|0.5057|0.5046|\n",
    "\n",
    "So, the best combination on development set is 3+4 (PPMI + Hu&Liu) lexicons. As the difference between best combination and all lexicons' combination is so small (0.003%) that shall not be treated as structural risk, we still use all lexicons to avoid bias.\n"
   ]
  },
  {
   "cell_type": "markdown",
   "metadata": {
    "signature": "4033087332032873cbec44070a3024f2d7b4190c5c214fcde203f999"
   },
   "source": [
    "## Error analysis and improvement"
   ]
  },
  {
   "cell_type": "markdown",
   "metadata": {
    "signature": "9e608687d8b2351d1bb87ba2dcc7ab319757f264c0b5e1b3a791180c"
   },
   "source": [
    "<b>Instructions</b>: Using your best logistic regression classifier so far, first write a function to identify errors your classifier is making where the probability of the predicted class and the actual class are fairly close (less than 0.2); you're looking for cases which you have a good chance of getting right with a small improvement. For this, do an 80/20 split of  the training dataset (that is, train on 80% of the data, test on 20%); do not look at examples from the development set or the test set. You should print out the tweet, the correct class, the predicted class, and the probabilities. Don't print all the errors, just use random.sample to select 30 from the full set. Look for general patterns in the errors, and propose a reasonable improvement to your classifier that you think might help with a problem that you are seeing. It could involve, for instance, better preprocessing, the addition of new features, some kind of feature selection, better lexicons or better use of the lexicons, or even a post-processing step. It should not require additional data, unless it involves a small set of words that you can hardcode."
   ]
  },
  {
   "cell_type": "code",
   "execution_count": 53,
   "metadata": {
    "collapsed": false,
    "signature": "a0595cfd489a8cb3349a1ea3437519d1410646d524baf63e078cc021"
   },
   "outputs": [
    {
     "name": "stdout",
     "output_type": "stream",
     "text": [
      "Tweet: [[u'are', u'you', u'really', u'saying', u'that', u'fps', u'russia', u'plays', u'with', u'airsoft', u'guns', u'...', u'c', u\"'\", u'mon', u'he', u'doesn', u\"'\", u't', u'need', u'that', u'he', u\"'\", u's', u'got', u'the', u'real', u'shit']]\n",
      "True class: 1\n",
      "Predicted class: -1\n",
      "Probability: [ 0.91130264  0.06470451  0.02399285]\n",
      "\n",
      "Tweet: [[u'red', u'cross', u'halts', u'most', u'pakistan', u'aid', u'after', u'beheading', u':', u'the', u'international', u'committee', u'of', u'the', u'red', u'cross', u'said', u'on', u'tuesday', u'...']]\n",
      "True class: -1\n",
      "Predicted class: 0\n",
      "Probability: [ 0.03676162  0.88830328  0.0749351 ]\n",
      "\n",
      "Tweet: [[u'is', u'anybody', u'going', u'to', u'the', u'strawberry', u'festival', u',', u'in', u'leicestershire', u'...', u'i', u'will', u'be', u'painting', u'there', u'live', u'on', u'the', u'friday', u'and', u'saturday']]\n",
      "True class: 1\n",
      "Predicted class: 0\n",
      "Probability: [ 0.02109252  0.86136784  0.11753964]\n",
      "\n",
      "Tweet: [[u'tumblr', u'keeps', u'eating', u'my', u'messages', u'.'], [u'something', u'came', u'up', u'tho', u'sobs', u'.'], [u';', u'__', u';', u'i', u\"'\", u'll', u'tell', u'everything', u'tomorrow', u'/', u'tonight', u'.'], [u'i', u'love', u'you', u'lots', u';;']]\n",
      "True class: -1\n",
      "Predicted class: 1\n",
      "Probability: [ 0.0118234   0.09804246  0.89013414]\n",
      "\n",
      "Tweet: [[u'please', u'join', u'lpg', u'and', u'good', u'start', u'genetics', u'for', u'a', u'legal', u'town', u'hall', u'cocktail', u'reception', u'monday', u'@', u'7', u'pm', u'at', u'the', u'marriott', u'marquis', u'mission', u'hills', u'room', u'.']]\n",
      "True class: 0\n",
      "Predicted class: 1\n",
      "Probability: [ 0.01131091  0.13001062  0.85867847]\n",
      "\n",
      "Tweet: [[u'lsu', u'needs', u'to', u'do', u'one', u'thing', u'to', u'beat', u'bama', u'.'], [u'run', u'!'], [u'and', u'stop', u'the', u'run', u'!'], [u'win', u'it', u'in', u'the', u'4th', u'quarter', u',', u'geaux', u'tigers', u'!'], [u'!']]\n",
      "True class: 0\n",
      "Predicted class: 1\n",
      "Probability: [ 0.0196016  0.0840821  0.8963163]\n",
      "\n",
      "Tweet: [[u'bjp', u'doing', u'drama', u'to', u'hide', u'facts', u',', u'says', u'minister', u'-', u'the', u'government', u'tuesday', u'accused', u'the', u'bharatiya', u'janata', u'party', u'(', u'bjp', u')', u'of', u'...']]\n",
      "True class: -1\n",
      "Predicted class: 0\n",
      "Probability: [ 0.03396915  0.87644594  0.08958492]\n",
      "\n",
      "Tweet: [[u'ate', u'is', u'giving', u'u', u'l', u'o', u'l', u'the', u'business', u'...', u'long', u'pass', u'play', u'from', u'aplin', u'to', u'jones', u'-', u'red', u'wolves', u'up', u'20', u'-', u'0', u'2nd', u'q', u'sun', u'belt']]\n",
      "True class: 1\n",
      "Predicted class: 0\n",
      "Probability: [ 0.01784709  0.87709071  0.1050622 ]\n",
      "\n",
      "Tweet: [[u'the', u'international', u'committee', u'of', u'the', u'red', u'cross', u'on', u'friday', u'warned', u'that', u'three', u'palestinian', u'hunger', u'strikers', u'were', u'at', u'risk', u'...']]\n",
      "True class: -1\n",
      "Predicted class: 0\n",
      "Probability: [ 0.15066532  0.80552975  0.04380493]\n",
      "\n",
      "Tweet: [[u'alright', u'.'], [u'g', u\"'\", u'night', u'!'], [u'tomorrow', u'i', u'will', u'be', u'in', u'california', u'.'], [u'the', u'next', u'day', u'i', u'will', u'see', u'bigbang', u'with', u'my', u'own', u'eyes', u'.'], [u'no', u'pressure', u'on', u'the', u'sleeping', u'now', u'.'], [u':', u'p']]\n",
      "True class: 0\n",
      "Predicted class: 1\n",
      "Probability: [ 0.02997965  0.16781444  0.80220591]\n",
      "\n",
      "Tweet: [[u'i', u'am', u'manipulative', u':', u'knightley', u':', u'los', u'angeles', u',', u'nov', u'2', u':', u'actress', u'keira', u'knightley', u'says', u'although', u'she', u'does', u'not', u'like', u'some', u't', u'...']]\n",
      "True class: -1\n",
      "Predicted class: 0\n",
      "Probability: [ 0.0685305   0.85080022  0.08066928]\n",
      "\n",
      "Tweet: [[u'd', u't', u'make', u'sure', u'you', u'find', u'your', u'self', u'at', u'the', u'\"', u's', u'.', u'e', u'.', u'c', u'\"', u'this', u'thursday', u'for', u'$', u'3', u'thursdays', u'!!'], [u'$', u'3', u'w', u'/', u'college', u'id', u'$', u'5', u'w', u'/', u'reg', u'id', u'til', u'11pm', u'!!!'], [u'party']]\n",
      "True class: 1\n",
      "Predicted class: 0\n",
      "Probability: [ 0.01324436  0.84403048  0.14272517]\n",
      "\n",
      "Tweet: [[u'my', u'4th', u'of', u'july', u'song', u'is', u\"'\", u'ito', u'ang', u'gusto', u'ko', u\"'\", u'by', u'francis', u'm', u'.', u'(', u'best', u'for', u'independence', u'day', u'here', u'in', u'the', u'ph', u')', u'galaxy', u'play', u'trackofthe', u'day']]\n",
      "True class: 0\n",
      "Predicted class: 1\n",
      "Probability: [ 0.01459091  0.12593424  0.85947485]\n",
      "\n",
      "Tweet: [[u'betting', u'on', u'the', u'honey', u'badger', u':', u'will', u'tyrann', u'mathieu', u'make', u'it', u'to', u'the', u'nfl', u'?'], [u':', u'this', u'aug', u'.', u'2', u',', u'2012', u'file', u'photo', u'shows', u'lsu', u'cor', u'...']]\n",
      "True class: 1\n",
      "Predicted class: 0\n",
      "Probability: [ 0.0436232   0.85544512  0.10093169]\n",
      "\n",
      "Tweet: [[u'physics', u'professor', u'just', u'extended', u'our', u'assignment', u'from', u'11', u':', u'30', u'tonight', u'to', u'11', u':', u'30', u'tomorrow', u'...', u'i', u'guess', u'he', u'isn', u\"'\", u't', u'the', u'only', u'one', u'drinking', u'.'], [u'prof', u'get', u'crunk']]\n",
      "True class: 1\n",
      "Predicted class: 0\n",
      "Probability: [ 0.06077349  0.84495237  0.09427414]\n",
      "\n",
      "Tweet: [[u'49ersparadise', u'hop', u':', u'pick', u'your', u'poison', u':', u'eliminating', u'vernon', u'davis', u'comes', u'with', u'a', u'price', u'[', u'bee', u'-', u'blog', u']:', u'mon', u',', u'29', u'oct', u'2012', u'8', u':...']]\n",
      "True class: -1\n",
      "Predicted class: 0\n",
      "Probability: [ 0.02966211  0.92704092  0.04329697]\n",
      "\n",
      "Tweet: [[u'well', u'geaux', u'tigers', u':)', u'and', u'yes', u'it', u'is', u'and', u'then', u'three', u'days', u'after', u'that', u'is', u'.....', u'nov', u'6', u'which', u'means', u'election', u'day', u'!'], [u'romney', u'ryan', u'!']]\n",
      "True class: 0\n",
      "Predicted class: 1\n",
      "Probability: [ 0.01589168  0.08589869  0.89820963]\n",
      "\n",
      "Tweet: [[u'rt', u'be', u'sure', u'to', u'catch', u'former', u'owl', u'football', u'player', u'lestar', u'jean', u'on', u'espn', u\"'\", u's', u'monday', u'night', u'football', u'tonight', u'at', u'8', u'p', u'.', u'm', u'.', u'with', u'hous', u'...']]\n",
      "True class: 1\n",
      "Predicted class: 0\n",
      "Probability: [ 0.03524881  0.86734327  0.09740792]\n",
      "\n",
      "Tweet: [[u'live', u':', u'sunderland', u'v', u'newcastle', u':', u'it', u'may', u'not', u'have', u'the', u'glamour', u'of', u'el', u'clasico', u'or', u'the', u'title', u'implications', u'of', u'the', u'manches', u'...']]\n",
      "True class: -1\n",
      "Predicted class: 0\n",
      "Probability: [ 0.10813539  0.80072724  0.09113737]\n",
      "\n",
      "Tweet: [[u'kirk', u\"'\", u's', u'bike', u'shop', u':', u'support', u'the', u'businesses', u'you', u'love', u'and', u'shop', u'small', u'this', u'november', u'24th', u'.']]\n",
      "True class: 0\n",
      "Predicted class: 1\n",
      "Probability: [ 0.01986425  0.1427547   0.83738105]\n",
      "\n",
      "Tweet: [[u'face', u'like', u'miss', u'america', u'...', u'body', u'like', u'a', u'stripper', u'...', u'fuck', u'me', u'like', u'a', u'pornstar', u'...', u'n', u'handle', u'business', u'like', u'the', u'1st', u'lady', u'...', u'yea', u'i', u'need', u'that', u'...$$$']]\n",
      "True class: 1\n",
      "Predicted class: -1\n",
      "Probability: [ 0.90737184  0.0662296   0.02639855]\n",
      "\n",
      "Tweet: [[u'a', u'never', u'-', u'ending', u'gold', u'rush', u'in', u'china', u':', u'china', u',', u'the', u'largest', u'producer', u'of', u'gold', u',', u'may', u'also', u'become', u'the', u'biggest', u'consumer', u'of', u'...']]\n",
      "True class: 1\n",
      "Predicted class: 0\n",
      "Probability: [ 0.05317666  0.81321137  0.13361197]\n",
      "\n",
      "Tweet: [[u'hahahaha', u'!'], [u'busted', u'.'], [u'i', u'just', u'met', u'hib', u'today', u'hahaha', u'!'], [u'ok', u'on', u'monday', u'kiter', u'buke', u'together', u'gether', u'!'], [u':', u'd', u'free', u'labour', u'included', u'tak', u'?'], [u'o', u'.', u'o']]\n",
      "True class: 0\n",
      "Predicted class: 1\n",
      "Probability: [ 0.00452838  0.01705473  0.97841689]\n",
      "\n",
      "Tweet: [[u'bjp', u'members', u'walk', u'out', u'from', u'jpc', u'meeting', u'on', u'2g', u':', u'bharatiya', u'janata', u'party', u'(', u'bjp', u')', u'members', u'on', u'tuesday', u'walked', u'out', u'of', u'the', u'p', u'...']]\n",
      "True class: -1\n",
      "Predicted class: 0\n",
      "Probability: [ 0.03142203  0.84286597  0.12571199]\n",
      "\n",
      "Tweet: [[u'gold', u'edges', u'down', u'ahead', u'of', u'us', u'jobs', u'data', u':', u'singapore', u'(', u'reuters', u')', u'-', u'gold', u'edged', u'lower', u'on', u'friday', u',', u'with', u'investors', u'waiting', u'for', u'...']]\n",
      "True class: -1\n",
      "Predicted class: 0\n",
      "Probability: [ 0.01958528  0.86718164  0.11323308]\n",
      "\n",
      "Tweet: [[u'in', u'the', u'sports', u'world', u'report', u':', u'steelers', u'can', u\"'\", u't', u'find', u'hotel', u',', u'to', u'travel', u'sun', u'.'], [u':', u'the', u'pittsburgh', u'steelers', u'will', u'fly', u'to', u'new', u'y', u'...']]\n",
      "True class: -1\n",
      "Predicted class: 0\n",
      "Probability: [ 0.0422384   0.84042302  0.11733859]\n",
      "\n",
      "Tweet: [[u'i', u'doubt', u'it', u'.'], [u'but', u'we', u'may', u'just', u'get', u'to', u'see', u'in', u'a', u'bcs', u'bowl', u'in', u'january', u'.'], [u'as', u'for', u'kstate', u',', u'they', u\"'\", u're', u'good', u',', u'just', u'not', u'sec', u'good', u'.']]\n",
      "True class: 0\n",
      "Predicted class: 1\n",
      "Probability: [ 0.04606982  0.04514964  0.90878054]\n",
      "\n",
      "Tweet: [[u'i', u'heard', u'may', u'queen', u'is', u'good', u',', u'nice', u'guy', u'but', u'has', u'song', u'joongki', u'in', u'it', u'^^~', u'i', u'have', u'no', u'interested', u'in', u'drama', u'these', u'days', u'unnie', u'=.=']]\n",
      "True class: -1\n",
      "Predicted class: 1\n",
      "Probability: [ 0.01067132  0.07879097  0.91053771]\n",
      "\n",
      "Tweet: [[u'ive', u'got', u'a', u'maths', u'exam', u'tomorrow', u'.'], [u'can', u'you', u'wish', u'me', u'a', u'luck', u'?'], [u'no', u'?'], [u'okay', u'thanks', u'.'], [u'i', u'wont', u'pass', u'this', u'exam', u'.', u'4']]\n",
      "True class: -1\n",
      "Predicted class: 1\n",
      "Probability: [ 0.0439187  0.1109513  0.84513  ]\n",
      "\n",
      "Tweet: [[u'd', u't', u'make', u'sure', u'you', u'find', u'your', u'self', u'at', u'the', u'\"', u's', u'.', u'e', u'.', u'c', u'\"', u'this', u'thursday', u'for', u'$', u'3', u'thursdays', u'!!!'], [u'$', u'3', u'w', u'/', u'college', u'id', u'$', u'5', u'w', u'/', u'reg', u'.'], [u'id', u'til', u'11pm', u'!!!'], [u'party']]\n",
      "True class: 1\n",
      "Predicted class: 0\n",
      "Probability: [ 0.01060883  0.86796867  0.1214225 ]\n",
      "\n"
     ]
    }
   ],
   "source": [
    "import random\n",
    "def get_significant_errors(clf, data, labels, tweets):\n",
    "    \n",
    "    errors = []\n",
    "    # get train set and test set\n",
    "    split_size = int(0.8*data.shape[0])\n",
    "    X_train, y_train = data[:split_size,:], labels[:split_size]\n",
    "    X_test, y_test = data[split_size:,:], labels[split_size:]\n",
    "    test_tweets = tweets[split_size:]\n",
    "    \n",
    "    clf.fit(X_train, y_train)\n",
    "    preds, pred_probas = clf.predict(X_test), clf.predict_proba(X_test)\n",
    "    \n",
    "    for idx, truth in enumerate(y_test):\n",
    "        # probability fairly close error\n",
    "        if preds[idx] != truth and max(pred_probas[idx]) > 0.8:\n",
    "            errors.append([test_tweets[idx], truth, preds[idx], pred_probas[idx]])\n",
    "            \n",
    "    return errors\n",
    "    \n",
    "errors = get_significant_errors(best_clf, train_data, train_labels, tweets)\n",
    "sample_errors = random.sample(errors, 30)\n",
    "for error in sample_errors:\n",
    "    print 'Tweet: %s' % error[0]\n",
    "    print 'True class: %s' % error[1]\n",
    "    print 'Predicted class: %s' % error[2]\n",
    "    print 'Probability: %s' % error[3]\n",
    "    print "
   ]
  },
  {
   "cell_type": "markdown",
   "metadata": {},
   "source": [
    "**Explanation**\n",
    "\n",
    "***Phenomanon***\n",
    "1. 16/30 neutral error predictions ('0') , 8/30 neutral truth that is almost uniformly distributed. \n",
    "2. The ratio of completely dead error (truth 1, predicted -1 or verse visa) based on polarity is 3/30\n",
    "\n",
    "***Corresponding (to phenomanon) Methods***\n",
    "1. Add contribution of less frequent words (remove the corrsponding preprocessing option) (Improvement Method 1)\n",
    "2. Re-construct lexicons to add the lexicon contribution to final predictions\n",
    "    1. Union lexicons and boostrap the union to generate more lexicons with bigger size. (Improvement method 2)\n",
    "2. Use sentence based BOW instead of tweet based BOW. Since each tweet has 1+ sentences, this method can increase the training set size:\n",
    "    1. Re-define feature dicts construction function. Maintain tweet to sentence mapping table. (Improvement method 3)"
   ]
  },
  {
   "cell_type": "markdown",
   "metadata": {
    "signature": "94f0903c93aae6b346f8b432150307a007e3c8875a0273c645c91d07"
   },
   "source": [
    "<b>Instructions</b>: Now implement that improvement, and then investigate its effect <em>in the development data</em>. Obviously, different improvements may involve different amounts of effort; if your improvement is fairly simple, we expect that you will do a more in-depth analysis, testing possible variations. You can also do multiple related improvements. Students who put extra effort into this may get few extra points that can offset any mistakes on other parts of the assignment, though we do not recommend you spend extra time on this before the other parts of the assignment are complete."
   ]
  },
  {
   "cell_type": "code",
   "execution_count": 54,
   "metadata": {
    "collapsed": false,
    "signature": "6447472d8dba639dfa84b3b9af3decc28a33cd3190932e58b7c14107"
   },
   "outputs": [
    {
     "name": "stdout",
     "output_type": "stream",
     "text": [
      "Accuracy on development set (Improvement Method 1): 0.509021323127\n"
     ]
    }
   ],
   "source": [
    "# improvement method 1: remove polarity score on stopwords\n",
    "def get_dict_polarity_score(dic, (pos, neg)):\n",
    "    ''' For training set, pose score on every feature dictionary\n",
    "        which remove the score on stopwords'''\n",
    "    pos_count, neg_count = 0, 0\n",
    "    for word in dic.keys():\n",
    "        if word in pos:\n",
    "            pos_count += 1\n",
    "        elif word in neg:\n",
    "            neg_count += 1\n",
    "    if pos_count > neg_count:\n",
    "        return 1\n",
    "    elif pos_count < neg_count:\n",
    "        return -1\n",
    "    else:\n",
    "        return 0\n",
    "    \n",
    "def add_lex_to_featured(feature_dicts, lexicon_tuples):\n",
    "    ''' same as in function construct_feature_dicts(), only calculate score by \n",
    "        function get_dict_polarity_score() '''\n",
    "    for dic_id, dic in enumerate(feature_dicts):\n",
    "        for lex_id, pair in enumerate(lexicon_tuples):\n",
    "            feature_dicts[dic_id].setdefault('lexicon_%s' % \\\n",
    "                        lex_id, get_dict_polarity_score(dic, pair))\n",
    "    return feature_dicts\n",
    "\n",
    "# set n = 0, in order to tag score on every token except stopwords \n",
    "train_featured = convert_to_feature_dicts(train_tweets, stopwords, 0)\n",
    "train_featured = add_lex_to_featured(train_featured, lexicon_tuples)\n",
    "\n",
    "dev_featured = add_lex_to_featured(convert_to_feature_dicts(dev_tweets), lexicon_tuples)\n",
    "\n",
    "vectorizer = DictVectorizer()\n",
    "train_data = vectorizer.fit_transform(train_featured)\n",
    "dev_data = vectorizer.transform(dev_featured)\n",
    "\n",
    "best_clf = LogisticRegression(solver='lbfgs',\n",
    "                              C=0.1,\n",
    "                              max_iter=100,\n",
    "                              multi_class='multinomial')\n",
    "best_clf.fit(train_data, train_labels)\n",
    "preds = best_clf.predict(dev_data)\n",
    "print 'Accuracy on development set (Improvement Method 1): %s' % accuracy_score(dev_labels, preds)"
   ]
  },
  {
   "cell_type": "code",
   "execution_count": 55,
   "metadata": {
    "collapsed": false
   },
   "outputs": [
    {
     "name": "stdout",
     "output_type": "stream",
     "text": [
      "Original lexicons accuracy: 0.504647348278\n",
      "Bootstrapped lexicons accuracy (Improvement Method 2): 0.501366867141\n"
     ]
    }
   ],
   "source": [
    "# improvement method 2: bootstrap resample lexicons\n",
    "import random\n",
    "from sklearn.cross_validation import cross_val_score\n",
    "def bootstrap_lexicons(lexicon_tuples, ratio=0.5, number=10):\n",
    "    '''Union the 4 lexicons and bootstrap @number samples.\n",
    "       Each sample has the size of @ratio*len(union_lexicon)'''\n",
    "    # construct union lexicon\n",
    "    pos_union_lex, neg_union_lex = set(), set()\n",
    "    for pos, neg in lexicon_tuples:\n",
    "        pos_union_lex |= pos\n",
    "        neg_union_lex |= neg\n",
    "    # remove intersected elements\n",
    "    intersect_set = pos_union_lex & neg_union_lex\n",
    "    #print len(intersect_set), len(pos_union_lex), len(neg_union_lex)\n",
    "    #sys.exit()\n",
    "    pos_union_lex -= intersect_set\n",
    "    neg_union_lex -= intersect_set\n",
    "    \n",
    "    # bootstrap lexicons\n",
    "    return [(set(random.sample(pos_union_lex, int(ratio*len(pos_union_lex)))), \\\n",
    "             set(random.sample(neg_union_lex, int(ratio*len(neg_union_lex))))) \\\n",
    "            for i in xrange(number)]\n",
    "\n",
    "def get_dev_accuracy(lexs):\n",
    "    train_feature_dicts = construct_feature_dicts(train_tweets,\n",
    "                                  lexs,\n",
    "                                  stopwords,\n",
    "                                  1)\n",
    "    dev_feature_dicts = construct_feature_dicts(dev_tweets,lexs)\n",
    "\n",
    "    # re-create train set and dev set\n",
    "    vectorizer = DictVectorizer()\n",
    "    train_data = vectorizer.fit_transform(train_feature_dicts)\n",
    "    dev_data = vectorizer.transform(dev_feature_dicts)\n",
    "\n",
    "    clf = LogisticRegression(solver='lbfgs',\n",
    "                                  C=0.1,\n",
    "                                  max_iter=100,\n",
    "                                  multi_class='multinomial')\n",
    "    clf.fit(train_data, train_labels)\n",
    "    preds = clf.predict(dev_data)\n",
    "    return accuracy_score(dev_labels, preds)\n",
    "\n",
    "# original lexicons' accuracy\n",
    "print 'Original lexicons accuracy: %s' % get_dev_accuracy(lexicon_tuples)\n",
    "# accuracy on bootstrap lexicons\n",
    "lexs_bootstrap = bootstrap_lexicons(lexicon_tuples, 0.7, 4)\n",
    "print 'Bootstrapped lexicons accuracy (Improvement Method 2): %s' % get_dev_accuracy(lexs_bootstrap)"
   ]
  },
  {
   "cell_type": "code",
   "execution_count": 56,
   "metadata": {
    "collapsed": false
   },
   "outputs": [
    {
     "name": "stdout",
     "output_type": "stream",
     "text": [
      "Accuracy on development set (Improvement Method 3): 0.518316019683\n"
     ]
    }
   ],
   "source": [
    "# improvement method 3: use sentence instead of tweet\n",
    "def get_sent_feature_dicts(tweets, stopwords=set(), n=0):\n",
    "    ''' Function like convert_to_feature_dicts(), only every dictionary \n",
    "        denotes a sentence in a tweet instead of that tweet.\n",
    "        Return also an list that map tweet to sentence'''\n",
    "    feature_dicts = []\n",
    "    # record the occurance of tokens based on entire training set\n",
    "    global_feature_dict = {}\n",
    "    # map[tweet_id] is [index in feature_dicts]\n",
    "    tweet_sent_map = []\n",
    "    for tweet_idx, tweet in enumerate(tweets):\n",
    "        tweet_sent_map.append([])\n",
    "        for sentence in tweet:\n",
    "            feature_dict = {}\n",
    "            for token in sentence:\n",
    "                # skip stop words\n",
    "                if token in stopwords:\n",
    "                    continue \n",
    "                # add token into dict\n",
    "                if token not in feature_dict:\n",
    "                    feature_dict.setdefault(token, 1)\n",
    "                else:\n",
    "                    feature_dict[token] = feature_dict[token] + 1\n",
    "                # add token to global dictionary preparing for removing less frequency tokens\n",
    "                if token not in global_feature_dict:\n",
    "                    global_feature_dict.setdefault(token, 1)\n",
    "                else:\n",
    "                    global_feature_dict[token] = global_feature_dict[token] + 1\n",
    "            feature_dicts.append(feature_dict)\n",
    "            # sentence index in feature dicts is len(feature_dicts) -1 \n",
    "            tweet_sent_map[tweet_idx].append(len(feature_dicts)-1)\n",
    "                                            \n",
    "    \n",
    "    if n <= 0:\n",
    "        return feature_dicts, tweet_sent_map\n",
    "    \n",
    "    # remove feature that occur less than n times\n",
    "    for idx, dic in enumerate(feature_dicts):\n",
    "        for feature in dic.keys():\n",
    "            if global_feature_dict[feature] <= n:\n",
    "                feature_dicts[idx].pop(feature)\n",
    "             \n",
    "    return feature_dicts, tweet_sent_map\n",
    "\n",
    "    \n",
    "def get_sent_dicts_label(tweets, labels, lexicon_tuples, stopwords=set(), n=0, trainset=True):\n",
    "    ''' '''\n",
    "    if trainset:\n",
    "        sent_feature_dicts, tweet_sent_map = get_sent_feature_dicts(tweets, stopwords, n)\n",
    "    else:\n",
    "        sent_feature_dicts, tweet_sent_map = get_sent_feature_dicts(tweets)\n",
    "        \n",
    "    # As stopwords merely have polarity sense, we directly use add_lex_to_featured(), \n",
    "    # difference is only performing on sentence based feature dictionary\n",
    "    feature_dicts = add_lex_to_featured(sent_feature_dicts, lexicon_tuples)\n",
    "    sent_labels = []\n",
    "    \n",
    "    for idx, label in enumerate(labels):\n",
    "        # label and tweet are mapped in same order, they share the same idx\n",
    "        for sent_idx in tweet_sent_map[idx]:\n",
    "            sent_labels.append(label)\n",
    "            \n",
    "    return sent_feature_dicts, sent_labels, tweet_sent_map\n",
    "        \n",
    "    \n",
    "def get_tweet_label_from_sents(tweet_idx, preds, tweet_sent_map):\n",
    "    ''' Map predicted sentence labels back to tweet.\n",
    "        More positive sent labels in a tweet yield \n",
    "        positive tweet label, etc.'''\n",
    "    sents_ids = tweet_sent_map[tweet_idx]\n",
    "    label = 0\n",
    "    for idx in sents_ids:\n",
    "        label += preds[idx]\n",
    "    if label > 0:\n",
    "        return 1\n",
    "    elif label < 0:\n",
    "        return -1\n",
    "    else:\n",
    "        return 0\n",
    "            \n",
    "train_sent_dicts, train_sent_labels, _ = get_sent_dicts_label(train_tweets, \n",
    "                                                              train_labels, \n",
    "                                                              lexicon_tuples,\n",
    "                                                              stopwords=stopwords,\n",
    "                                                              n=1)\n",
    "dev_sent_dicts, _, dev_tweet_sent_map = get_sent_dicts_label(dev_tweets, \n",
    "                                                             dev_labels, \n",
    "                                                             lexicon_tuples, \n",
    "                                                             trainset=False)\n",
    "\n",
    "vectorizer = DictVectorizer()\n",
    "train_sent_x = vectorizer.fit_transform(train_sent_dicts)\n",
    "dev_sent_x = vectorizer.transform(dev_sent_dicts)\n",
    "\n",
    "best_clf = LogisticRegression(solver='lbfgs',\n",
    "                                  C=0.1,\n",
    "                                  max_iter=100,\n",
    "                                  multi_class='multinomial')\n",
    "best_clf.fit(train_sent_x, train_sent_labels)\n",
    "preds = best_clf.predict(dev_sent_x)\n",
    "dev_tweet_preds = []\n",
    "for idx in xrange(len(dev_labels)):\n",
    "    dev_tweet_preds.append(get_tweet_label_from_sents(idx, preds, dev_tweet_sent_map))\n",
    "print 'Accuracy on development set (Improvement Method 3): %s' % accuracy_score(dev_labels, dev_tweet_preds)"
   ]
  },
  {
   "cell_type": "markdown",
   "metadata": {
    "signature": "5e3b7d3c5af2a6e900c64a3747dccdb0303d43659ef6b0b9ea89318f"
   },
   "source": [
    "## Final testing and discussion"
   ]
  },
  {
   "cell_type": "markdown",
   "metadata": {
    "signature": "188e1a449f8822871c20d6951caffc1137e606feda9879e270e55325"
   },
   "source": [
    "<b>Instructions</b>: When the final test set has been released, you should start with your best classifier from your work up to this point, and do a final test of all major options, including at least one from each of the first four sections of the assignment (that is, at least one preprocessing option, at least one tuning parameter/classifier type, at least one lexicon, and your improvement), in this new dataset. You don't need to explore every possible combination (in fact, you shouldn't), but you should make a convincing case that you have probably found the best combination given the possibilities you have implemented. It's okay if you find discrepancies between the best classifier on the test set and development set, just be sure to mention them. In a final discussion (which should be at least 500 words), you should include at least one bar graph of accuracy across various options, and at least one table which reports precision, recall, and F-score for each label as well as the macroaveraged F-score (all figures and tables should be generated inline by your code, using matplotlib). Please conclude your discussion by discussing what you have learned, and mentioning any other ideas for improving performance of this system that you may have.\n",
    "\n",
    "Note that you may have to direct matplotlib to display the figures inline, as shown below."
   ]
  },
  {
   "cell_type": "code",
   "execution_count": 78,
   "metadata": {
    "collapsed": false
   },
   "outputs": [],
   "source": [
    "%matplotlib inline\n",
    "import matplotlib.pyplot as plt\n",
    "test_tweets, test_labels = preprocess_file('test.json')\n",
    "predictions_, truths_ = [], []"
   ]
  },
  {
   "cell_type": "code",
   "execution_count": 58,
   "metadata": {
    "collapsed": false,
    "signature": "5684fa2c3bbcdc1f42077375d86d01918b9b5e8ff43b8280e3aabe15"
   },
   "outputs": [],
   "source": [
    "# No option, the original method without any extra settings.\n",
    "train_feature_dicts = convert_to_feature_dicts(train_tweets)\n",
    "test_feature_dicts = convert_to_feature_dicts(test_tweets)\n",
    "\n",
    "vectorizer = DictVectorizer()\n",
    "train_data = vectorizer.fit_transform(train_feature_dicts)\n",
    "test_data = vectorizer.transform(test_feature_dicts)\n",
    "\n",
    "clf = LogisticRegression(solver='lbfgs',\n",
    "                        multi_class='multinomial')\n",
    "clf.fit(train_data, train_labels)\n",
    "pred = clf.predict(test_data)\n",
    "predictions_.append(pred)\n",
    "truths_.append(test_labels)"
   ]
  },
  {
   "cell_type": "code",
   "execution_count": 59,
   "metadata": {
    "collapsed": true
   },
   "outputs": [],
   "source": [
    "# preprocessing option: remove stop words from building feature dicts\n",
    "train_feature_dicts = convert_to_feature_dicts(train_tweets, stopwords)\n",
    "test_feature_dicts = convert_to_feature_dicts(test_tweets,)\n",
    "\n",
    "vectorizer = DictVectorizer()\n",
    "train_data = vectorizer.fit_transform(train_feature_dicts)\n",
    "test_data = vectorizer.transform(test_feature_dicts)\n",
    "\n",
    "clf = LogisticRegression(solver='lbfgs',\n",
    "                        #C=0.1,\n",
    "                        #max_iter=100,\n",
    "                        multi_class='multinomial')\n",
    "clf.fit(train_data, train_labels)\n",
    "pred = clf.predict(test_data)\n",
    "predictions_.append(pred)\n",
    "truths_.append(test_labels)"
   ]
  },
  {
   "cell_type": "code",
   "execution_count": 60,
   "metadata": {
    "collapsed": true
   },
   "outputs": [],
   "source": [
    "# best tuning option\n",
    "train_feature_dicts = convert_to_feature_dicts(train_tweets)\n",
    "test_feature_dicts = convert_to_feature_dicts(test_tweets)\n",
    "\n",
    "vectorizer = DictVectorizer()\n",
    "train_data = vectorizer.fit_transform(train_feature_dicts)\n",
    "test_data = vectorizer.transform(test_feature_dicts)\n",
    "\n",
    "clf = LogisticRegression(solver='lbfgs',\n",
    "                                  C=0.1,\n",
    "                                  max_iter=100,\n",
    "                                  multi_class='multinomial')\n",
    "clf.fit(train_data, train_labels)\n",
    "pred = clf.predict(test_data)\n",
    "predictions_.append(pred)\n",
    "truths_.append(test_labels)"
   ]
  },
  {
   "cell_type": "code",
   "execution_count": 61,
   "metadata": {
    "collapsed": true
   },
   "outputs": [],
   "source": [
    "# lexicon options\n",
    "train_feature_dicts = construct_feature_dicts(train_tweets, lexicon_tuples)\n",
    "test_feature_dicts = construct_feature_dicts(test_tweets, lexicon_tuples)\n",
    "\n",
    "vectorizer = DictVectorizer()\n",
    "train_data = vectorizer.fit_transform(train_feature_dicts)\n",
    "test_data = vectorizer.transform(test_feature_dicts)\n",
    "\n",
    "clf = LogisticRegression(solver='lbfgs',\n",
    "                        multi_class='multinomial')\n",
    "clf.fit(train_data, train_labels)\n",
    "pred = clf.predict(test_data)\n",
    "predictions_.append(pred)\n",
    "truths_.append(test_labels)"
   ]
  },
  {
   "cell_type": "code",
   "execution_count": 62,
   "metadata": {
    "collapsed": true
   },
   "outputs": [],
   "source": [
    "# use improvement method 1 and 3 to build feature dicts (sentence based feature dicts)\n",
    "train_sent_dicts, train_sent_labels, _ = get_sent_dicts_label(train_tweets, \n",
    "                                                              train_labels, \n",
    "                                                              [],)\n",
    "test_sent_dicts, _, test_tweet_sent_map = get_sent_dicts_label(test_tweets,\n",
    "                                                              test_labels,\n",
    "                                                              [],\n",
    "                                                              trainset=False)\n",
    "vectorizor = DictVectorizer()\n",
    "train_sent_x = vectorizer.fit_transform(train_sent_dicts)\n",
    "test_sent_x = vectorizer.transform(test_sent_dicts)\n",
    "\n",
    "clf = LogisticRegression(solver='lbfgs',\n",
    "                                  #C=0.1,\n",
    "                                  #max_iter=100,\n",
    "                                  multi_class='multinomial')\n",
    "\n",
    "clf.fit(train_sent_x, train_sent_labels)\n",
    "preds = clf.predict(test_sent_x)\n",
    "test_tweet_preds = []\n",
    "for idx in xrange(len(test_labels)):\n",
    "    test_tweet_preds.append(get_tweet_label_from_sents(idx, preds, test_tweet_sent_map))\n",
    "    \n",
    "predictions_.append(test_tweet_preds)\n",
    "truths_.append(test_labels)"
   ]
  },
  {
   "cell_type": "markdown",
   "metadata": {},
   "source": [
    "**Explanation**\n",
    "\n",
    "From the above, we explored 4 exclusive options and generated evaluation results. We implement these 4 exclusive options following the order like:\n",
    "1. Preprocessing option: Remove stopwords in BOW from training set\n",
    "2. Tuning with best classifier param options: C=0.1, max_iter=100 in logistic regression classifier\n",
    "3. Lexicon option: Use all 4 lexicons \n",
    "4. Improvement option: Improment method 1 + improvement method 3\n",
    "\n",
    "Firstly, we draw the accuracy bar chart responding our 4 options plus the accuracy that is without any options and the accuracy that combined all options:"
   ]
  },
  {
   "cell_type": "code",
   "execution_count": 63,
   "metadata": {
    "collapsed": false
   },
   "outputs": [
    {
     "data": {
      "image/png": "[encoded data removed]",
      "text/plain": [
       "<matplotlib.figure.Figure at 0x384de110>"
      ]
     },
     "metadata": {},
     "output_type": "display_data"
    }
   ],
   "source": [
    "def accuracy_graph(preds, truths):\n",
    "    acc_list = []\n",
    "    for idx in xrange(len(preds)):\n",
    "        acc_list.append(accuracy_score(truths[idx], preds[idx]))\n",
    "        \n",
    "    plt.figure(figsize=(10,5))\n",
    "    p = plt.bar([num+1.0 for num in range(len(preds))], acc_list, 0.5, align='center')\n",
    "    plt.ylabel('Accuracy')\n",
    "    plt.title('Accuracy classifying test tweets with different options using logistic regression')\n",
    "    plt.ylim(0.48)\n",
    "    plt.xticks([num+1.0 for num in range(len(preds))], \n",
    "               ('no option','no stopwords', 'best-param', 'lexicon', 'improment'))\n",
    "    plt.show()\n",
    "\n",
    "accuracy_graph(predictions_, truths_)"
   ]
  },
  {
   "cell_type": "markdown",
   "metadata": {},
   "source": [
    "From the chart above, if we take \"no-option\" bar as baseline, options that applies best classifier parameter and improvement methods improve the performance as expected. However, \"no stopwords\" bar and \"lexicon\" bar does not perform as expected like in development set where the \"no-option\" accuracy is 50.02% and \"stopwords + lexicon\" accuracy is 50.46%. \n",
    "\n",
    "From now on, we are confirmed that our improvement methods indeed improve the result. But we don't know if the \"no stopwords\" option and \"lexicon\" options really decrease the accuracy on test set, so for simplicity, we plot the accuracy with all options and options that only includes best classifier parameters and our improvement methods. "
   ]
  },
  {
   "cell_type": "code",
   "execution_count": 64,
   "metadata": {
    "collapsed": false
   },
   "outputs": [
    {
     "name": "stdout",
     "output_type": "stream",
     "text": [
      "Accuracy of two groups: 0.553403431101 (all options), 0.549529607084 (2+4 options)\n"
     ]
    },
    {
     "data": {
      "image/png": "[encoded data removed]",
      "text/plain": [
       "<matplotlib.figure.Figure at 0x38cb2fd0>"
      ]
     },
     "metadata": {},
     "output_type": "display_data"
    }
   ],
   "source": [
    "''' Final test of all major options:\n",
    "    1. Preprocessing option: Remove stopwords in BOW from training set\n",
    "    2. Tuning option: C=0.1, max_iter=100 in logistic regression classifier\n",
    "    3. Lexicon option: Use all 4 lexicons \n",
    "    4. Improvement option: Improment method 1 + improvement method 3\n",
    "    and control group that only have option 2 and 4.\n",
    "'''\n",
    "def accuracy_with_all_options(train_tweets, \n",
    "                              train_labels, \n",
    "                              test_tweets, \n",
    "                              test_labels, \n",
    "                              lexicon_tuples=[], \n",
    "                              stopwords=set()):\n",
    "    train_sent_dicts, train_sent_labels, _ = get_sent_dicts_label(train_tweets, \n",
    "                                                                  train_labels,  \n",
    "                                                                  lexicon_tuples,\n",
    "                                                                  stopwords=stopwords,\n",
    "                                                                 )\n",
    "    test_sent_dicts, _, test_tweet_sent_map = get_sent_dicts_label(test_tweets,\n",
    "                                                                  test_labels, \n",
    "                                                                  lexicon_tuples,\n",
    "                                                                  trainset=False,\n",
    "                                                                  )\n",
    "    vectorizor = DictVectorizer()\n",
    "    train_sent_x = vectorizer.fit_transform(train_sent_dicts)\n",
    "    test_sent_x = vectorizer.transform(test_sent_dicts)\n",
    "    # use best tuning options\n",
    "    final_clf = LogisticRegression(solver='lbfgs',\n",
    "                                      C=0.1,\n",
    "                                      max_iter=100,\n",
    "                                      multi_class='multinomial')\n",
    "\n",
    "    final_clf.fit(train_sent_x, train_sent_labels)\n",
    "    pred = final_clf.predict(test_sent_x)\n",
    "    test_tweet_preds = []\n",
    "    for idx in xrange(len(test_labels)):\n",
    "        test_tweet_preds.append(get_tweet_label_from_sents(idx, pred, test_tweet_sent_map))\n",
    "    \n",
    "    return accuracy_score(test_labels, test_tweet_preds), test_tweet_preds, test_labels\n",
    "\n",
    "acc_all_options, pred, labels = accuracy_with_all_options(train_tweets, train_labels, \n",
    "                                            test_tweets, test_labels,\n",
    "                                            lexicon_tuples[1:], \n",
    "                                            stopwords)\n",
    "predictions_.append(pred)\n",
    "truths_.append(labels)\n",
    "acc_control, pred, labels = accuracy_with_all_options(train_tweets, train_labels, \n",
    "                                                      test_tweets, test_labels)\n",
    "predictions_.append(pred)\n",
    "truths_.append(labels)\n",
    "\n",
    "acc_list = [acc_all_options, acc_control]\n",
    "print 'Accuracy of two groups: %s (all options), %s (2+4 options)' % (acc_list[0], acc_list[1])\n",
    "\n",
    "plt.figure(figsize=(10,5))\n",
    "p = plt.bar([num+1.0 for num in range(len(acc_list))], acc_list, 0.5, align='center')\n",
    "plt.ylabel('Accuracy')\n",
    "plt.title('Accuracy classifying test tweets with all options and control group having option 2 and 4')\n",
    "plt.ylim(0.5)\n",
    "plt.xticks([num+1.0 for num in range(len(acc_list))], \n",
    "            ('all option','2+4 option'))\n",
    "plt.show()"
   ]
  },
  {
   "cell_type": "markdown",
   "metadata": {},
   "source": [
    "From now on, we still cannot tell which solution is better, because the results are so close and the risk is not only measured by accuracy, we want to view it on more generalized metrics, precision, recall, f1-score. \n",
    "\n",
    "Next, we produce the table (classification report) that contain precision, recall, f1-score with respect to each case and macro-averaged f1-score. Each result include a table and macro-averaged f1-score. Each result respond to a specific case. Cases are numbered as the following order and are described later with the same order. \n",
    "\n",
    "0. No options (baseline)\n",
    "1. Preprocessing option: Remove stopwords in BOW from training set\n",
    "2. Tuning with best classifier param options: C=0.1, max_iter=100 in logistic regression classifier\n",
    "3. Lexicon option: Use all 4 lexicons \n",
    "4. Improvement option: Improment method 1 + improvement method 3\n",
    "5. All obove (2+3+4+5) options \n",
    "6. Controlled options (3+5)"
   ]
  },
  {
   "cell_type": "code",
   "execution_count": 65,
   "metadata": {
    "collapsed": false
   },
   "outputs": [
    {
     "name": "stdout",
     "output_type": "stream",
     "text": [
      "///////////////////////Case 1//////////////////////////\n",
      "Evaluation Table:\n",
      "             precision    recall  f1-score   support\n",
      "\n",
      "         -1       0.37      0.43      0.40       290\n",
      "          0       0.43      0.63      0.51       625\n",
      "          1       0.75      0.46      0.57       892\n",
      "\n",
      "avg / total       0.58      0.51      0.52      1807\n",
      "\n",
      "Macro-averaged f1 score is: 0.491331916602\n",
      "///////////////////////Case 2//////////////////////////\n",
      "Evaluation Table:\n",
      "             precision    recall  f1-score   support\n",
      "\n",
      "         -1       0.35      0.36      0.36       290\n",
      "          0       0.41      0.63      0.50       625\n",
      "          1       0.73      0.44      0.55       892\n",
      "\n",
      "avg / total       0.56      0.49      0.50      1807\n",
      "\n",
      "Macro-averaged f1 score is: 0.466989183405\n",
      "///////////////////////Case 3//////////////////////////\n",
      "Evaluation Table:\n",
      "             precision    recall  f1-score   support\n",
      "\n",
      "         -1       0.38      0.33      0.35       290\n",
      "          0       0.43      0.70      0.53       625\n",
      "          1       0.77      0.45      0.57       892\n",
      "\n",
      "avg / total       0.59      0.52      0.52      1807\n",
      "\n",
      "Macro-averaged f1 score is: 0.485481006945\n",
      "///////////////////////Case 4//////////////////////////\n",
      "Evaluation Table:\n",
      "             precision    recall  f1-score   support\n",
      "\n",
      "         -1       0.35      0.46      0.39       290\n",
      "          0       0.42      0.61      0.50       625\n",
      "          1       0.75      0.44      0.56       892\n",
      "\n",
      "avg / total       0.57      0.50      0.51      1807\n",
      "\n",
      "Macro-averaged f1 score is: 0.482804232804\n",
      "///////////////////////Case 5//////////////////////////\n",
      "Evaluation Table:\n",
      "             precision    recall  f1-score   support\n",
      "\n",
      "         -1       0.37      0.41      0.39       290\n",
      "          0       0.44      0.49      0.47       625\n",
      "          1       0.70      0.61      0.65       892\n",
      "\n",
      "avg / total       0.56      0.54      0.55      1807\n",
      "\n",
      "Macro-averaged f1 score is: 0.502422286718\n",
      "///////////////////////Case 6//////////////////////////\n",
      "Evaluation Table:\n",
      "             precision    recall  f1-score   support\n",
      "\n",
      "         -1       0.44      0.32      0.37       290\n",
      "          0       0.45      0.53      0.49       625\n",
      "          1       0.67      0.64      0.65       892\n",
      "\n",
      "avg / total       0.56      0.55      0.55      1807\n",
      "\n",
      "Macro-averaged f1 score is: 0.506233434992\n",
      "///////////////////////Case 7//////////////////////////\n",
      "Evaluation Table:\n",
      "             precision    recall  f1-score   support\n",
      "\n",
      "         -1       0.40      0.33      0.36       290\n",
      "          0       0.45      0.53      0.49       625\n",
      "          1       0.68      0.64      0.66       892\n",
      "\n",
      "avg / total       0.55      0.55      0.55      1807\n",
      "\n",
      "Macro-averaged f1 score is: 0.501273414196\n"
     ]
    }
   ],
   "source": [
    "from sklearn.metrics import f1_score, classification_report\n",
    "\n",
    "for idx in range(len(predictions_)):\n",
    "    print '///////////////////////Case %s//////////////////////////' % (idx+1)\n",
    "    print 'Evaluation Table:'\n",
    "    print classification_report(truths_[idx], predictions_[idx])\n",
    "    print 'Macro-averaged f1 score is: %s' % f1_score(truths_[idx], predictions_[idx], average='macro')"
   ]
  },
  {
   "cell_type": "markdown",
   "metadata": {},
   "source": [
    "From now on, according to f1-score (micro & macro), \"case 5\" and \"case 6\" are the top 2 best. Since results of the best two cases are very close, it is not that convincing to select the best from the two. From my own opinion, if I am sure that the label represents polarity, I will use \"case 5\" as final model, because it adds polarity lexicon features.\n",
    "\n",
    "**Reflections**\n",
    "\n",
    "After the implementation of this assignment, I reviewed the preprocessing of NLP problem step by step:\n",
    "* Remove unwanted formatting\n",
    "* Segment sentences\n",
    "* Tokenize words\n",
    "* Normalize words (lemmatization)\n",
    "* Remove unwanted words (stemming)\n",
    "\n",
    "I also reinforce the understanding of text classification, such as using term frequency to represent documents, BOW feature transformation, building term-document matrix, etc. The process of comparison of different classifiers gives me direct experiences of how to better using sci-kit package. \n",
    "\n",
    "The exploration of using lexicon to analyse sentiment behind documents enhances my understanding of sentiment analtics capabilities, including how to generate lexicons with hands-on packages (like sentiwordnet), how to evaluate them. \n",
    "\n",
    "The final evaluation methods offer me potential angles to evaluate errors, especially multi-class classification problem and NLP related thinking method (like transforming document-based BOW features to sentence-based BOW features).\n"
   ]
  },
  {
   "cell_type": "code",
   "execution_count": null,
   "metadata": {
    "collapsed": true
   },
   "outputs": [],
   "source": []
  }
 ],
 "metadata": {
  "kernelspec": {
   "display_name": "Python 2",
   "language": "python",
   "name": "python2"
  },
  "language_info": {
   "codemirror_mode": {
    "name": "ipython",
    "version": 2
   },
   "file_extension": ".py",
   "mimetype": "text/x-python",
   "name": "python",
   "nbconvert_exporter": "python",
   "pygments_lexer": "ipython2",
   "version": "2.7.5"
  }
 },
 "nbformat": 4,
 "nbformat_minor": 0
}
